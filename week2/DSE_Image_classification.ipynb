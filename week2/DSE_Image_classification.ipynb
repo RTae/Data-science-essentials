{
  "nbformat": 4,
  "nbformat_minor": 0,
  "metadata": {
    "colab": {
      "name": "DSE-Image_classification.ipynb",
      "provenance": [],
      "collapsed_sections": [],
      "toc_visible": true,
      "include_colab_link": true
    },
    "kernelspec": {
      "name": "python3",
      "display_name": "Python 3"
    }
  },
  "cells": [
    {
      "cell_type": "markdown",
      "metadata": {
        "id": "view-in-github",
        "colab_type": "text"
      },
      "source": [
        "<a href=\"https://colab.research.google.com/github/RTae/Data-science-essentials/blob/master/week2/DSE_Image_classification.ipynb\" target=\"_parent\"><img src=\"https://colab.research.google.com/assets/colab-badge.svg\" alt=\"Open In Colab\"/></a>"
      ]
    },
    {
      "cell_type": "markdown",
      "metadata": {
        "id": "coo-C95JCL1O",
        "colab_type": "text"
      },
      "source": [
        "# Machine Learning"
      ]
    },
    {
      "cell_type": "markdown",
      "metadata": {
        "id": "vcKvAmCwCTOM",
        "colab_type": "text"
      },
      "source": [
        "##Pipeline\n",
        "1. get data\n",
        "2. extract feature\n",
        "3. run model\n",
        "4. test model\n",
        "5. deploy model"
      ]
    },
    {
      "cell_type": "code",
      "metadata": {
        "id": "quidBONyIauc",
        "colab_type": "code",
        "colab": {
          "base_uri": "https://localhost:8080/",
          "height": 98
        },
        "outputId": "a0ed4b73-d4b7-4ed9-e604-60320756211b"
      },
      "source": [
        "!pip install botnoi==0.2.1"
      ],
      "execution_count": null,
      "outputs": [
        {
          "output_type": "stream",
          "text": [
            "Collecting botnoi==0.2.1\n",
            "\u001b[?25l  Downloading https://files.pythonhosted.org/packages/07/54/fca45b7ad26655c3c59249b16cc9b131aa4c3387a8f3ac8e97fbc43ab74d/botnoi-0.2.1-py3-none-any.whl (16.0MB)\n",
            "\u001b[K     |████████████████████████████████| 16.0MB 292kB/s \n",
            "\u001b[?25hInstalling collected packages: botnoi\n",
            "Successfully installed botnoi-0.2.1\n"
          ],
          "name": "stdout"
        }
      ]
    },
    {
      "cell_type": "code",
      "metadata": {
        "id": "Oc_Oj3aSbU5p",
        "colab_type": "code",
        "colab": {}
      },
      "source": [
        "from botnoi import scrape as sc\n",
        "from botnoi import cv\n",
        "from tqdm import tqdm\n",
        "import os"
      ],
      "execution_count": null,
      "outputs": []
    },
    {
      "cell_type": "code",
      "metadata": {
        "id": "TWymhSt-bbFO",
        "colab_type": "code",
        "colab": {}
      },
      "source": [
        "def extractimagefeat(query):\n",
        "  foldername = 'images/'+query\n",
        "  isdir = os.path.isdir(foldername) \n",
        "  if not isdir:\n",
        "    os.makedirs(foldername)\n",
        "  #get images from google search\n",
        "  imglist = sc.get_image_urls(query)\n",
        "  i = 1\n",
        "  for img in tqdm(imglist[0:30], position=0, leave=True):\n",
        "    #extract image features from each images and save to files\n",
        "    try:\n",
        "      savepath = foldername + '/' + str(i)+'.p'\n",
        "      a = cv.image(img)\n",
        "      a.getresnet50()\n",
        "      a.save(savepath)\n",
        "    except:\n",
        "      pass\n",
        "  return 'complete'\n"
      ],
      "execution_count": null,
      "outputs": []
    },
    {
      "cell_type": "code",
      "metadata": {
        "id": "qsIzCjPBP8tK",
        "colab_type": "code",
        "colab": {}
      },
      "source": [
        "import glob\n",
        "import pandas as pd\n",
        "import pickle\n",
        "def createdataset(imgfolder):\n",
        "  #imgfolder = glob.glob('images/*')\n",
        "  dataset = []\n",
        "  for cls in imgfolder:\n",
        "    clsset = pd.DataFrame()\n",
        "    pList = glob.glob(cls+'/*')\n",
        "    featvec = []\n",
        "    for p in pList:\n",
        "      dat = pickle.load(open(p,'rb'))\n",
        "      featvec.append(dat.getresnet50())\n",
        "    #featvec = np.vstack(featvec)\n",
        "    clsset['feature'] = featvec\n",
        "    cls = cls.split('/')[-1]\n",
        "    clsset['label'] = cls\n",
        "    dataset.append(clsset)\n",
        "  return pd.concat(dataset,axis=0)"
      ],
      "execution_count": null,
      "outputs": []
    },
    {
      "cell_type": "markdown",
      "metadata": {
        "id": "mbS7H-UUCkwe",
        "colab_type": "text"
      },
      "source": [
        "## Train model"
      ]
    },
    {
      "cell_type": "code",
      "metadata": {
        "id": "3AlHGpiCI1gg",
        "colab_type": "code",
        "colab": {}
      },
      "source": [
        "from sklearn.model_selection import train_test_split\n",
        "import numpy as np\n",
        "from sklearn.svm import LinearSVC\n",
        "from sklearn.calibration import CalibratedClassifierCV\n",
        "def trainmodel(dataset,modfile=''):\n",
        "  trainfeat, testfeat, trainlabel, testlabel = train_test_split(dataset['feature'], dataset['label'], test_size=0.33, random_state=42)\n",
        "  clf = LinearSVC()\n",
        "  clf = CalibratedClassifierCV(clf) \n",
        "  mod = clf.fit(np.vstack(trainfeat.values),trainlabel.values)\n",
        "  res = mod.predict(np.vstack(testfeat.values))\n",
        "  if modfile!='':\n",
        "    pickle.dump(mod,open(modfile,'wb'))\n",
        "  acc = sum(res == testlabel.values)/len(res)\n",
        "  return mod,acc"
      ],
      "execution_count": null,
      "outputs": []
    },
    {
      "cell_type": "code",
      "metadata": {
        "id": "xorF4kSFh3TM",
        "colab_type": "code",
        "colab": {
          "base_uri": "https://localhost:8080/",
          "height": 115
        },
        "outputId": "696826b4-8602-425a-bf65-5d6e0913b79e"
      },
      "source": [
        "#pipeline to create model\n",
        "clsList = ['หมา','แมว']\n",
        "for c in clsList:\n",
        "  extractimagefeat(c)\n",
        "imgfolder = ['images/'+c for c in clsList]\n",
        "dataset = createdataset(imgfolder)\n",
        "#dataset\n",
        "modFile = 'mymodel.p'\n",
        "mod,acc = trainmodel(dataset,modFile)"
      ],
      "execution_count": null,
      "outputs": [
        {
          "output_type": "stream",
          "text": [
            "complete: 0.00%\n"
          ],
          "name": "stdout"
        },
        {
          "output_type": "stream",
          "text": [
            "\r  0%|          | 0/30 [00:00<?, ?it/s]"
          ],
          "name": "stderr"
        },
        {
          "output_type": "stream",
          "text": [
            "completed\n"
          ],
          "name": "stdout"
        },
        {
          "output_type": "stream",
          "text": [
            "100%|██████████| 30/30 [00:30<00:00,  1.01s/it]\n"
          ],
          "name": "stderr"
        },
        {
          "output_type": "stream",
          "text": [
            "complete: 0.00%\n"
          ],
          "name": "stdout"
        },
        {
          "output_type": "stream",
          "text": [
            "\r  0%|          | 0/30 [00:00<?, ?it/s]"
          ],
          "name": "stderr"
        },
        {
          "output_type": "stream",
          "text": [
            "completed\n"
          ],
          "name": "stdout"
        },
        {
          "output_type": "stream",
          "text": [
            "100%|██████████| 30/30 [00:50<00:00,  1.69s/it]\n"
          ],
          "name": "stderr"
        }
      ]
    },
    {
      "cell_type": "code",
      "metadata": {
        "id": "lppcwp8ngNgD",
        "colab_type": "code",
        "colab": {}
      },
      "source": [
        "# output function\n",
        "mymod = pickle.load(open(modFile,'rb'))\n",
        "def predictimg(imgurl):\n",
        "  a = cv.image(imgurl)\n",
        "  feat = a.getresnet50()\n",
        "  probList = mod.predict_proba([feat])[0]\n",
        "  maxprobind = np.argmax(probList)\n",
        "  prob = probList[maxprobind]\n",
        "  outclass = mymod.classes_[maxprobind]\n",
        "  result = {}\n",
        "  result['class'] = outclass\n",
        "  result['probability'] = prob\n",
        "  return result\n"
      ],
      "execution_count": null,
      "outputs": []
    },
    {
      "cell_type": "code",
      "metadata": {
        "id": "PypshlZROYxR",
        "colab_type": "code",
        "colab": {
          "base_uri": "https://localhost:8080/",
          "height": 32
        },
        "outputId": "cee1af9c-fedd-4ee4-af0b-9ec6b891fd6b"
      },
      "source": [
        "a=predictimg('https://do.lnwfile.com/oddu08.jpg')\n",
        "a"
      ],
      "execution_count": null,
      "outputs": [
        {
          "output_type": "execute_result",
          "data": {
            "text/plain": [
              "{'class': 'หมา', 'probability': 0.6391101356080122}"
            ]
          },
          "metadata": {
            "tags": []
          },
          "execution_count": 65
        }
      ]
    },
    {
      "cell_type": "code",
      "metadata": {
        "id": "IsEAC3XBnKpH",
        "colab_type": "code",
        "colab": {
          "base_uri": "https://localhost:8080/",
          "height": 32
        },
        "outputId": "b2751e8b-5497-4ea2-d584-95712bfc070d"
      },
      "source": [
        "predictimg('https://cf.shopee.co.th/file/f338f8d43a8c609c9518d8a4a9915947')"
      ],
      "execution_count": null,
      "outputs": [
        {
          "output_type": "execute_result",
          "data": {
            "text/plain": [
              "{'class': 'หมา', 'probability': 0.6446518233360707}"
            ]
          },
          "metadata": {
            "tags": []
          },
          "execution_count": 66
        }
      ]
    },
    {
      "cell_type": "code",
      "metadata": {
        "id": "UbB92mzwisKe",
        "colab_type": "code",
        "colab": {
          "base_uri": "https://localhost:8080/",
          "height": 32
        },
        "outputId": "b0de108e-b2c8-47d3-c808-c26c7c35458b"
      },
      "source": [
        "url = 'https://ichef.bbci.co.uk/news/640/cpsprodpb/51F3/production/_106997902_gettyimages-611696954.jpg'\n",
        "predictimg(url)"
      ],
      "execution_count": null,
      "outputs": [
        {
          "output_type": "execute_result",
          "data": {
            "text/plain": [
              "{'class': 'แมว', 'probability': 0.9047286301151807}"
            ]
          },
          "metadata": {
            "tags": []
          },
          "execution_count": 68
        }
      ]
    },
    {
      "cell_type": "code",
      "metadata": {
        "id": "37X-yl3GjFxF",
        "colab_type": "code",
        "colab": {}
      },
      "source": [
        ""
      ],
      "execution_count": null,
      "outputs": []
    }
  ]
}