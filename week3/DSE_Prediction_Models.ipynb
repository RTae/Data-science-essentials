{
  "nbformat": 4,
  "nbformat_minor": 0,
  "metadata": {
    "colab": {
      "name": "DSE#1 - Prediction Models.ipynb",
      "provenance": [],
      "collapsed_sections": [],
      "toc_visible": true,
      "include_colab_link": true
    },
    "kernelspec": {
      "name": "python3",
      "display_name": "Python 3"
    }
  },
  "cells": [
    {
      "cell_type": "markdown",
      "metadata": {
        "id": "view-in-github",
        "colab_type": "text"
      },
      "source": [
        "<a href=\"https://colab.research.google.com/github/RTae/Data-science-essentials/blob/master/week3/DSE_Prediction_Models.ipynb\" target=\"_parent\"><img src=\"https://colab.research.google.com/assets/colab-badge.svg\" alt=\"Open In Colab\"/></a>"
      ]
    },
    {
      "cell_type": "markdown",
      "metadata": {
        "id": "iY7XutNcK-8A",
        "colab_type": "text"
      },
      "source": [
        "# Prediction Model"
      ]
    },
    {
      "cell_type": "markdown",
      "metadata": {
        "id": "CYbZX5zOLEEc",
        "colab_type": "text"
      },
      "source": [
        "##Pipeline\n",
        "1. get data\n",
        "2. clean data\n",
        "3. train & test split\n",
        "4. extract feature\n",
        "5. train model\n",
        "6. evaluation\n",
        "7. pipeline"
      ]
    },
    {
      "cell_type": "markdown",
      "metadata": {
        "id": "RlM8w9oDOWNz",
        "colab_type": "text"
      },
      "source": [
        "# 1. Get Data"
      ]
    },
    {
      "cell_type": "code",
      "metadata": {
        "id": "tJmzG4hCNt4p",
        "colab_type": "code",
        "colab": {
          "base_uri": "https://localhost:8080/",
          "height": 785
        },
        "outputId": "fb3cda1b-a6a6-44bb-ca83-3939b6ee6917"
      },
      "source": [
        "# ติดตั้ง library สำหรับ download google sheet และแปลภาษา\n",
        "!pip install --upgrade -q pygsheets # ​google sheet\n",
        "!pip install googletrans # google translate"
      ],
      "execution_count": null,
      "outputs": [
        {
          "output_type": "stream",
          "text": [
            "\u001b[?25l\r\u001b[K     |███▏                            | 10kB 23.5MB/s eta 0:00:01\r\u001b[K     |██████▎                         | 20kB 2.9MB/s eta 0:00:01\r\u001b[K     |█████████▌                      | 30kB 3.2MB/s eta 0:00:01\r\u001b[K     |████████████▋                   | 40kB 3.6MB/s eta 0:00:01\r\u001b[K     |███████████████▉                | 51kB 3.4MB/s eta 0:00:01\r\u001b[K     |███████████████████             | 61kB 3.8MB/s eta 0:00:01\r\u001b[K     |██████████████████████▏         | 71kB 4.2MB/s eta 0:00:01\r\u001b[K     |█████████████████████████▎      | 81kB 4.4MB/s eta 0:00:01\r\u001b[K     |████████████████████████████▍   | 92kB 4.3MB/s eta 0:00:01\r\u001b[K     |███████████████████████████████▋| 102kB 4.5MB/s eta 0:00:01\r\u001b[K     |████████████████████████████████| 112kB 4.5MB/s \n",
            "\u001b[?25hCollecting googletrans\n",
            "  Downloading https://files.pythonhosted.org/packages/71/3a/3b19effdd4c03958b90f40fe01c93de6d5280e03843cc5adf6956bfc9512/googletrans-3.0.0.tar.gz\n",
            "Collecting httpx==0.13.3\n",
            "\u001b[?25l  Downloading https://files.pythonhosted.org/packages/54/b4/698b284c6aed4d7c2b4fe3ba5df1fcf6093612423797e76fbb24890dd22f/httpx-0.13.3-py3-none-any.whl (55kB)\n",
            "\u001b[K     |████████████████████████████████| 61kB 3.6MB/s \n",
            "\u001b[?25hRequirement already satisfied: chardet==3.* in /usr/local/lib/python3.6/dist-packages (from httpx==0.13.3->googletrans) (3.0.4)\n",
            "Collecting httpcore==0.9.*\n",
            "\u001b[?25l  Downloading https://files.pythonhosted.org/packages/dd/d5/e4ff9318693ac6101a2095e580908b591838c6f33df8d3ee8dd953ba96a8/httpcore-0.9.1-py3-none-any.whl (42kB)\n",
            "\u001b[K     |████████████████████████████████| 51kB 4.7MB/s \n",
            "\u001b[?25hCollecting sniffio\n",
            "  Downloading https://files.pythonhosted.org/packages/b3/82/4bd4b7d9c0d1dc0fbfbc2a1e00138e7f3ab85bc239358fe9b78aa2ab586d/sniffio-1.1.0-py3-none-any.whl\n",
            "Collecting hstspreload\n",
            "\u001b[?25l  Downloading https://files.pythonhosted.org/packages/90/df/c9c1b75d2c0b6154b00576bb6db17aef9c306c5c56a41712ccad637a6763/hstspreload-2020.8.25-py3-none-any.whl (947kB)\n",
            "\u001b[K     |████████████████████████████████| 952kB 7.5MB/s \n",
            "\u001b[?25hRequirement already satisfied: idna==2.* in /usr/local/lib/python3.6/dist-packages (from httpx==0.13.3->googletrans) (2.10)\n",
            "Collecting rfc3986<2,>=1.3\n",
            "  Downloading https://files.pythonhosted.org/packages/78/be/7b8b99fd74ff5684225f50dd0e865393d2265656ef3b4ba9eaaaffe622b8/rfc3986-1.4.0-py2.py3-none-any.whl\n",
            "Requirement already satisfied: certifi in /usr/local/lib/python3.6/dist-packages (from httpx==0.13.3->googletrans) (2020.6.20)\n",
            "Collecting h2==3.*\n",
            "\u001b[?25l  Downloading https://files.pythonhosted.org/packages/25/de/da019bcc539eeab02f6d45836f23858ac467f584bfec7a526ef200242afe/h2-3.2.0-py2.py3-none-any.whl (65kB)\n",
            "\u001b[K     |████████████████████████████████| 71kB 6.4MB/s \n",
            "\u001b[?25hCollecting h11<0.10,>=0.8\n",
            "\u001b[?25l  Downloading https://files.pythonhosted.org/packages/5a/fd/3dad730b0f95e78aeeb742f96fa7bbecbdd56a58e405d3da440d5bfb90c6/h11-0.9.0-py2.py3-none-any.whl (53kB)\n",
            "\u001b[K     |████████████████████████████████| 61kB 5.7MB/s \n",
            "\u001b[?25hCollecting contextvars>=2.1; python_version < \"3.7\"\n",
            "  Downloading https://files.pythonhosted.org/packages/83/96/55b82d9f13763be9d672622e1b8106c85acb83edd7cc2fa5bc67cd9877e9/contextvars-2.4.tar.gz\n",
            "Collecting hyperframe<6,>=5.2.0\n",
            "  Downloading https://files.pythonhosted.org/packages/19/0c/bf88182bcb5dce3094e2f3e4fe20db28a9928cb7bd5b08024030e4b140db/hyperframe-5.2.0-py2.py3-none-any.whl\n",
            "Collecting hpack<4,>=3.0\n",
            "  Downloading https://files.pythonhosted.org/packages/8a/cc/e53517f4a1e13f74776ca93271caef378dadec14d71c61c949d759d3db69/hpack-3.0.0-py2.py3-none-any.whl\n",
            "Collecting immutables>=0.9\n",
            "\u001b[?25l  Downloading https://files.pythonhosted.org/packages/99/e0/ea6fd4697120327d26773b5a84853f897a68e33d3f9376b00a8ff96e4f63/immutables-0.14-cp36-cp36m-manylinux1_x86_64.whl (98kB)\n",
            "\u001b[K     |████████████████████████████████| 102kB 8.0MB/s \n",
            "\u001b[?25hBuilding wheels for collected packages: googletrans, contextvars\n",
            "  Building wheel for googletrans (setup.py) ... \u001b[?25l\u001b[?25hdone\n",
            "  Created wheel for googletrans: filename=googletrans-3.0.0-cp36-none-any.whl size=15736 sha256=a46b535174b2e4c3e77ca6ce5cbaef5ce6f14a695837623684516f6618b314c4\n",
            "  Stored in directory: /root/.cache/pip/wheels/28/1a/a7/eaf4d7a3417a0c65796c547cff4deb6d79c7d14c2abd29273e\n",
            "  Building wheel for contextvars (setup.py) ... \u001b[?25l\u001b[?25hdone\n",
            "  Created wheel for contextvars: filename=contextvars-2.4-cp36-none-any.whl size=7666 sha256=819da6d4192af8dca94bb01c9bb9ef5589c65da0358406c9623c2b448da25dbd\n",
            "  Stored in directory: /root/.cache/pip/wheels/a5/7d/68/1ebae2668bda2228686e3c1cf16f2c2384cea6e9334ad5f6de\n",
            "Successfully built googletrans contextvars\n",
            "Installing collected packages: immutables, contextvars, sniffio, hyperframe, hpack, h2, h11, httpcore, hstspreload, rfc3986, httpx, googletrans\n",
            "Successfully installed contextvars-2.4 googletrans-3.0.0 h11-0.9.0 h2-3.2.0 hpack-3.0.0 hstspreload-2020.8.25 httpcore-0.9.1 httpx-0.13.3 hyperframe-5.2.0 immutables-0.14 rfc3986-1.4.0 sniffio-1.1.0\n"
          ],
          "name": "stdout"
        }
      ]
    },
    {
      "cell_type": "markdown",
      "metadata": {
        "id": "PD9AB3iIsUqM",
        "colab_type": "text"
      },
      "source": [
        "## 1.1. Import all necessary libraries\n",
        "เนื่องจากว่า data sourch ของเราได้มาจากการทำ survey ด้วย google sheet ดังนั้นเราต้องอิมพอร์ตไลบรารี่ที่ต้องใช้ในการ download ข้อมูลจาก google sheet"
      ]
    },
    {
      "cell_type": "code",
      "metadata": {
        "id": "-UVXBtTNK9bF",
        "colab_type": "code",
        "colab": {}
      },
      "source": [
        "# อิมพอร์ต library ที่ใช้ในคอร์สนี้\n",
        "import pandas as pd\n",
        "import gspread\n",
        "from gspread_dataframe import get_as_dataframe, set_with_dataframe\n",
        "from google.colab import auth\n",
        "auth.authenticate_user()  # verify your account to read files which you have access to. Make sure you have permission to read the file!\n",
        "from oauth2client.client import GoogleCredentials\n",
        "gc = gspread.authorize(GoogleCredentials.get_application_default()) "
      ],
      "execution_count": null,
      "outputs": []
    },
    {
      "cell_type": "markdown",
      "metadata": {
        "id": "kF3gKw7WsspZ",
        "colab_type": "text"
      },
      "source": [
        "ข้อมูลที่ได้จาก google sheet จะถูก transform ให้อยู่ใน Dataframe เนื่องจากข้อมูลที่เป็น Dataframe ช่วยทำให้การวิเคราะห์ และประมวลผลสะดวกรวดเร็ว"
      ]
    },
    {
      "cell_type": "code",
      "metadata": {
        "id": "yFCxoIkWMT6e",
        "colab_type": "code",
        "colab": {
          "base_uri": "https://localhost:8080/",
          "height": 428
        },
        "outputId": "76be8021-9cce-4ed1-d68c-b3450c428807"
      },
      "source": [
        "# Download data from google sheet and convert to dataframe\n",
        "spreadsheet = gc.open_by_url('https://docs.google.com/spreadsheets/d/1P-_6nZBr1YBoHb5ONtuPNDPe4bXKoEeG_c5htMhXPDw/edit#gid=2049680291') # use this when you have the complete url (the edit#gid means permission)\n",
        "sheet =  spreadsheet.get_worksheet(0)  # 0 means the first sheet in the file\n",
        "\n",
        "# Create dataframe called 'survey_df' and store dataset\n",
        "survey_df = pd.DataFrame(sheet.get_all_records())\n",
        "\n",
        "# Display last 5 row of dataframe\n",
        "survey_df.tail()"
      ],
      "execution_count": null,
      "outputs": [
        {
          "output_type": "execute_result",
          "data": {
            "text/html": [
              "<div>\n",
              "<style scoped>\n",
              "    .dataframe tbody tr th:only-of-type {\n",
              "        vertical-align: middle;\n",
              "    }\n",
              "\n",
              "    .dataframe tbody tr th {\n",
              "        vertical-align: top;\n",
              "    }\n",
              "\n",
              "    .dataframe thead th {\n",
              "        text-align: right;\n",
              "    }\n",
              "</style>\n",
              "<table border=\"1\" class=\"dataframe\">\n",
              "  <thead>\n",
              "    <tr style=\"text-align: right;\">\n",
              "      <th></th>\n",
              "      <th>Timestamp</th>\n",
              "      <th>อาหารที่ชอบ (ตอบทุกข้อ) [ส้มตำ]</th>\n",
              "      <th>อาหารที่ชอบ (ตอบทุกข้อ) [กระเพราหมูกรอบ]</th>\n",
              "      <th>อาหารที่ชอบ (ตอบทุกข้อ) [ต้มยำกุ้ง]</th>\n",
              "      <th>อาหารที่ชอบ (ตอบทุกข้อ) [ข้าวมันไก่]</th>\n",
              "      <th>อาหารที่ชอบ (ตอบทุกข้อ) [ก๋วยเตี๋ยว]</th>\n",
              "      <th>อาหารที่ชอบ (ตอบทุกข้อ) [พิซซ่า]</th>\n",
              "      <th>อาหารที่ชอบ (ตอบทุกข้อ) [ไก่ บอนชอน]</th>\n",
              "      <th>อาหารที่ชอบ (ตอบทุกข้อ) [MK สุกี้]</th>\n",
              "      <th>อาหารที่ชอบ (ตอบทุกข้อ) [อาหารทะเล]</th>\n",
              "      <th>อาหารที่ชอบ (ตอบทุกข้อ) [สลัด]</th>\n",
              "      <th>อาหารที่ชอบ (ตอบทุกข้อ) [ต้มเลือดหมู]</th>\n",
              "      <th>อาหารที่ชอบ (ตอบทุกข้อ) [ทุเรียน]</th>\n",
              "      <th>อายุ</th>\n",
              "      <th>น้ำหนักตัว (กิโลกรัม)</th>\n",
              "      <th>เพศ</th>\n",
              "    </tr>\n",
              "  </thead>\n",
              "  <tbody>\n",
              "    <tr>\n",
              "      <th>263</th>\n",
              "      <td>8/22/2020 14:07:18</td>\n",
              "      <td>ชอบ</td>\n",
              "      <td>ชอบ</td>\n",
              "      <td>เฉยๆ</td>\n",
              "      <td>เฉยๆ</td>\n",
              "      <td>เฉยๆ</td>\n",
              "      <td>เฉยๆ</td>\n",
              "      <td>เฉยๆ</td>\n",
              "      <td>ชอบ</td>\n",
              "      <td>รักเลย</td>\n",
              "      <td>เฉยๆ</td>\n",
              "      <td>เฉยๆ</td>\n",
              "      <td>เกลียด</td>\n",
              "      <td>30</td>\n",
              "      <td>88.0</td>\n",
              "      <td>ชาย</td>\n",
              "    </tr>\n",
              "    <tr>\n",
              "      <th>264</th>\n",
              "      <td>8/22/2020 18:16:05</td>\n",
              "      <td>รักเลย</td>\n",
              "      <td>ชอบ</td>\n",
              "      <td>ชอบ</td>\n",
              "      <td>ชอบ</td>\n",
              "      <td>ชอบ</td>\n",
              "      <td>เกลียด</td>\n",
              "      <td>เกลียด</td>\n",
              "      <td>ชอบ</td>\n",
              "      <td>เฉยๆ</td>\n",
              "      <td>รักเลย</td>\n",
              "      <td>ชอบ</td>\n",
              "      <td>ชอบ</td>\n",
              "      <td>24</td>\n",
              "      <td>56.0</td>\n",
              "      <td>ชาย</td>\n",
              "    </tr>\n",
              "    <tr>\n",
              "      <th>265</th>\n",
              "      <td>8/22/2020 22:53:24</td>\n",
              "      <td>รักเลย</td>\n",
              "      <td>ชอบ</td>\n",
              "      <td>ชอบ</td>\n",
              "      <td>ชอบ</td>\n",
              "      <td>ชอบ</td>\n",
              "      <td>เกลียด</td>\n",
              "      <td>เกลียด</td>\n",
              "      <td>ชอบ</td>\n",
              "      <td>เฉยๆ</td>\n",
              "      <td>รักเลย</td>\n",
              "      <td>ชอบ</td>\n",
              "      <td>ชอบ</td>\n",
              "      <td>24</td>\n",
              "      <td>56.0</td>\n",
              "      <td>ชาย</td>\n",
              "    </tr>\n",
              "    <tr>\n",
              "      <th>266</th>\n",
              "      <td>8/25/2020 15:41:22</td>\n",
              "      <td>เกลียด</td>\n",
              "      <td>เฉยๆ</td>\n",
              "      <td>ชอบ</td>\n",
              "      <td>เฉยๆ</td>\n",
              "      <td>รักเลย</td>\n",
              "      <td>เฉยๆ</td>\n",
              "      <td>รักเลย</td>\n",
              "      <td>รักเลย</td>\n",
              "      <td>รักเลย</td>\n",
              "      <td>เกลียด</td>\n",
              "      <td>ชอบ</td>\n",
              "      <td>ชอบ</td>\n",
              "      <td>28</td>\n",
              "      <td>54.0</td>\n",
              "      <td>หญิง</td>\n",
              "    </tr>\n",
              "    <tr>\n",
              "      <th>267</th>\n",
              "      <td>8/25/2020 18:23:41</td>\n",
              "      <td>รักเลย</td>\n",
              "      <td>เฉยๆ</td>\n",
              "      <td>เฉยๆ</td>\n",
              "      <td>ชอบ</td>\n",
              "      <td>เฉยๆ</td>\n",
              "      <td>ไม่ชอบ</td>\n",
              "      <td>เฉยๆ</td>\n",
              "      <td>ชอบ</td>\n",
              "      <td>รักเลย</td>\n",
              "      <td>ชอบ</td>\n",
              "      <td>เกลียด</td>\n",
              "      <td>เกลียด</td>\n",
              "      <td>23</td>\n",
              "      <td>60.0</td>\n",
              "      <td>ชาย</td>\n",
              "    </tr>\n",
              "  </tbody>\n",
              "</table>\n",
              "</div>"
            ],
            "text/plain": [
              "              Timestamp  ...   เพศ\n",
              "263  8/22/2020 14:07:18  ...   ชาย\n",
              "264  8/22/2020 18:16:05  ...   ชาย\n",
              "265  8/22/2020 22:53:24  ...   ชาย\n",
              "266  8/25/2020 15:41:22  ...  หญิง\n",
              "267  8/25/2020 18:23:41  ...   ชาย\n",
              "\n",
              "[5 rows x 16 columns]"
            ]
          },
          "metadata": {
            "tags": []
          },
          "execution_count": 59
        }
      ]
    },
    {
      "cell_type": "code",
      "metadata": {
        "id": "xV93BwictEtC",
        "colab_type": "code",
        "colab": {
          "base_uri": "https://localhost:8080/",
          "height": 1000
        },
        "outputId": "9252e34e-7c40-4813-a429-a90416ebb129"
      },
      "source": [
        "# Randomly display 20 samples\n",
        "survey_df.sample(20)"
      ],
      "execution_count": null,
      "outputs": [
        {
          "output_type": "execute_result",
          "data": {
            "text/html": [
              "<div>\n",
              "<style scoped>\n",
              "    .dataframe tbody tr th:only-of-type {\n",
              "        vertical-align: middle;\n",
              "    }\n",
              "\n",
              "    .dataframe tbody tr th {\n",
              "        vertical-align: top;\n",
              "    }\n",
              "\n",
              "    .dataframe thead th {\n",
              "        text-align: right;\n",
              "    }\n",
              "</style>\n",
              "<table border=\"1\" class=\"dataframe\">\n",
              "  <thead>\n",
              "    <tr style=\"text-align: right;\">\n",
              "      <th></th>\n",
              "      <th>Timestamp</th>\n",
              "      <th>อาหารที่ชอบ (ตอบทุกข้อ) [ส้มตำ]</th>\n",
              "      <th>อาหารที่ชอบ (ตอบทุกข้อ) [กระเพราหมูกรอบ]</th>\n",
              "      <th>อาหารที่ชอบ (ตอบทุกข้อ) [ต้มยำกุ้ง]</th>\n",
              "      <th>อาหารที่ชอบ (ตอบทุกข้อ) [ข้าวมันไก่]</th>\n",
              "      <th>อาหารที่ชอบ (ตอบทุกข้อ) [ก๋วยเตี๋ยว]</th>\n",
              "      <th>อาหารที่ชอบ (ตอบทุกข้อ) [พิซซ่า]</th>\n",
              "      <th>อาหารที่ชอบ (ตอบทุกข้อ) [ไก่ บอนชอน]</th>\n",
              "      <th>อาหารที่ชอบ (ตอบทุกข้อ) [MK สุกี้]</th>\n",
              "      <th>อาหารที่ชอบ (ตอบทุกข้อ) [อาหารทะเล]</th>\n",
              "      <th>อาหารที่ชอบ (ตอบทุกข้อ) [สลัด]</th>\n",
              "      <th>อาหารที่ชอบ (ตอบทุกข้อ) [ต้มเลือดหมู]</th>\n",
              "      <th>อาหารที่ชอบ (ตอบทุกข้อ) [ทุเรียน]</th>\n",
              "      <th>อายุ</th>\n",
              "      <th>น้ำหนักตัว (กิโลกรัม)</th>\n",
              "      <th>เพศ</th>\n",
              "    </tr>\n",
              "  </thead>\n",
              "  <tbody>\n",
              "    <tr>\n",
              "      <th>30</th>\n",
              "      <td>8/20/2020 20:18:37</td>\n",
              "      <td>เฉยๆ</td>\n",
              "      <td>ชอบ</td>\n",
              "      <td>ชอบ</td>\n",
              "      <td>ชอบ</td>\n",
              "      <td>เฉยๆ</td>\n",
              "      <td>ชอบ</td>\n",
              "      <td>ไม่ชอบ</td>\n",
              "      <td>เฉยๆ</td>\n",
              "      <td>เฉยๆ</td>\n",
              "      <td>เกลียด</td>\n",
              "      <td>เฉยๆ</td>\n",
              "      <td>รักเลย</td>\n",
              "      <td>45</td>\n",
              "      <td>74.0</td>\n",
              "      <td>ชาย</td>\n",
              "    </tr>\n",
              "    <tr>\n",
              "      <th>116</th>\n",
              "      <td>8/20/2020 22:14:45</td>\n",
              "      <td>รักเลย</td>\n",
              "      <td>รักเลย</td>\n",
              "      <td>รักเลย</td>\n",
              "      <td>เฉยๆ</td>\n",
              "      <td>เฉยๆ</td>\n",
              "      <td>ชอบ</td>\n",
              "      <td>ชอบ</td>\n",
              "      <td>เฉยๆ</td>\n",
              "      <td>เฉยๆ</td>\n",
              "      <td>เฉยๆ</td>\n",
              "      <td>เฉยๆ</td>\n",
              "      <td>เกลียด</td>\n",
              "      <td>27</td>\n",
              "      <td>30.0</td>\n",
              "      <td>หญิง</td>\n",
              "    </tr>\n",
              "    <tr>\n",
              "      <th>236</th>\n",
              "      <td>8/22/2020 10:19:59</td>\n",
              "      <td>เฉยๆ</td>\n",
              "      <td>ไม่ชอบ</td>\n",
              "      <td>เฉยๆ</td>\n",
              "      <td>เฉยๆ</td>\n",
              "      <td>เฉยๆ</td>\n",
              "      <td>เฉยๆ</td>\n",
              "      <td>ชอบ</td>\n",
              "      <td>รักเลย</td>\n",
              "      <td>รักเลย</td>\n",
              "      <td>เฉยๆ</td>\n",
              "      <td>เกลียด</td>\n",
              "      <td>เฉยๆ</td>\n",
              "      <td>32</td>\n",
              "      <td>70.0</td>\n",
              "      <td>ชาย</td>\n",
              "    </tr>\n",
              "    <tr>\n",
              "      <th>225</th>\n",
              "      <td>8/21/2020 21:14:59</td>\n",
              "      <td>เฉยๆ</td>\n",
              "      <td>ไม่ชอบ</td>\n",
              "      <td>ชอบ</td>\n",
              "      <td>รักเลย</td>\n",
              "      <td>เกลียด</td>\n",
              "      <td>เฉยๆ</td>\n",
              "      <td>รักเลย</td>\n",
              "      <td>ชอบ</td>\n",
              "      <td>รักเลย</td>\n",
              "      <td>ชอบ</td>\n",
              "      <td>เฉยๆ</td>\n",
              "      <td>รักเลย</td>\n",
              "      <td>27</td>\n",
              "      <td>49.0</td>\n",
              "      <td>หญิง</td>\n",
              "    </tr>\n",
              "    <tr>\n",
              "      <th>173</th>\n",
              "      <td>8/21/2020 8:34:10</td>\n",
              "      <td>รักเลย</td>\n",
              "      <td>เฉยๆ</td>\n",
              "      <td>ชอบ</td>\n",
              "      <td>ไม่ชอบ</td>\n",
              "      <td>เฉยๆ</td>\n",
              "      <td>ชอบ</td>\n",
              "      <td>ชอบ</td>\n",
              "      <td>รักเลย</td>\n",
              "      <td>รักเลย</td>\n",
              "      <td>รักเลย</td>\n",
              "      <td>รักเลย</td>\n",
              "      <td>ชอบ</td>\n",
              "      <td>27</td>\n",
              "      <td>48.0</td>\n",
              "      <td>หญิง</td>\n",
              "    </tr>\n",
              "    <tr>\n",
              "      <th>158</th>\n",
              "      <td>8/21/2020 1:53:49</td>\n",
              "      <td>เฉยๆ</td>\n",
              "      <td>ชอบ</td>\n",
              "      <td>เฉยๆ</td>\n",
              "      <td>ชอบ</td>\n",
              "      <td>เฉยๆ</td>\n",
              "      <td>ไม่ชอบ</td>\n",
              "      <td>ชอบ</td>\n",
              "      <td>ชอบ</td>\n",
              "      <td>เกลียด</td>\n",
              "      <td>เฉยๆ</td>\n",
              "      <td>ชอบ</td>\n",
              "      <td>เฉยๆ</td>\n",
              "      <td>44</td>\n",
              "      <td>52.0</td>\n",
              "      <td>ชาย</td>\n",
              "    </tr>\n",
              "    <tr>\n",
              "      <th>21</th>\n",
              "      <td>8/20/2020 19:49:55</td>\n",
              "      <td>ไม่ชอบ</td>\n",
              "      <td>รักเลย</td>\n",
              "      <td>รักเลย</td>\n",
              "      <td>ชอบ</td>\n",
              "      <td>เฉยๆ</td>\n",
              "      <td>รักเลย</td>\n",
              "      <td>ชอบ</td>\n",
              "      <td>ชอบ</td>\n",
              "      <td>ชอบ</td>\n",
              "      <td>ไม่ชอบ</td>\n",
              "      <td>ชอบ</td>\n",
              "      <td>รักเลย</td>\n",
              "      <td>21</td>\n",
              "      <td>65.0</td>\n",
              "      <td>หญิง</td>\n",
              "    </tr>\n",
              "    <tr>\n",
              "      <th>14</th>\n",
              "      <td>8/20/2020 19:31:22</td>\n",
              "      <td>เฉยๆ</td>\n",
              "      <td>ชอบ</td>\n",
              "      <td>ชอบ</td>\n",
              "      <td>ชอบ</td>\n",
              "      <td>ไม่ชอบ</td>\n",
              "      <td>เฉยๆ</td>\n",
              "      <td>ชอบ</td>\n",
              "      <td>ชอบ</td>\n",
              "      <td>ชอบ</td>\n",
              "      <td>เฉยๆ</td>\n",
              "      <td>ไม่ชอบ</td>\n",
              "      <td>เฉยๆ</td>\n",
              "      <td>34</td>\n",
              "      <td>58.0</td>\n",
              "      <td></td>\n",
              "    </tr>\n",
              "    <tr>\n",
              "      <th>109</th>\n",
              "      <td>8/20/2020 22:04:31</td>\n",
              "      <td>เฉยๆ</td>\n",
              "      <td>ไม่ชอบ</td>\n",
              "      <td>ชอบ</td>\n",
              "      <td>ชอบ</td>\n",
              "      <td>รักเลย</td>\n",
              "      <td>ชอบ</td>\n",
              "      <td>ชอบ</td>\n",
              "      <td>เฉยๆ</td>\n",
              "      <td>เฉยๆ</td>\n",
              "      <td>ชอบ</td>\n",
              "      <td>รักเลย</td>\n",
              "      <td>ชอบ</td>\n",
              "      <td>47</td>\n",
              "      <td>76.8</td>\n",
              "      <td>ชาย</td>\n",
              "    </tr>\n",
              "    <tr>\n",
              "      <th>61</th>\n",
              "      <td>8/20/2020 21:37:04</td>\n",
              "      <td>เฉยๆ</td>\n",
              "      <td>รักเลย</td>\n",
              "      <td>ชอบ</td>\n",
              "      <td>รักเลย</td>\n",
              "      <td>ชอบ</td>\n",
              "      <td>ชอบ</td>\n",
              "      <td>รักเลย</td>\n",
              "      <td>ชอบ</td>\n",
              "      <td>ชอบ</td>\n",
              "      <td>เฉยๆ</td>\n",
              "      <td>รักเลย</td>\n",
              "      <td>เฉยๆ</td>\n",
              "      <td>28</td>\n",
              "      <td>64.0</td>\n",
              "      <td>ชาย</td>\n",
              "    </tr>\n",
              "    <tr>\n",
              "      <th>185</th>\n",
              "      <td>8/21/2020 9:28:09</td>\n",
              "      <td>ไม่ชอบ</td>\n",
              "      <td>เฉยๆ</td>\n",
              "      <td>ไม่ชอบ</td>\n",
              "      <td>เกลียด</td>\n",
              "      <td>เกลียด</td>\n",
              "      <td>เกลียด</td>\n",
              "      <td>เฉยๆ</td>\n",
              "      <td>รักเลย</td>\n",
              "      <td>รักเลย</td>\n",
              "      <td>เกลียด</td>\n",
              "      <td>ชอบ</td>\n",
              "      <td>เกลียด</td>\n",
              "      <td>23</td>\n",
              "      <td>55.0</td>\n",
              "      <td>หญิง</td>\n",
              "    </tr>\n",
              "    <tr>\n",
              "      <th>26</th>\n",
              "      <td>8/20/2020 19:54:47</td>\n",
              "      <td>ชอบ</td>\n",
              "      <td>ชอบ</td>\n",
              "      <td>ชอบ</td>\n",
              "      <td>ชอบ</td>\n",
              "      <td>ชอบ</td>\n",
              "      <td>ชอบ</td>\n",
              "      <td>ชอบ</td>\n",
              "      <td>ไม่ชอบ</td>\n",
              "      <td>รักเลย</td>\n",
              "      <td>เฉยๆ</td>\n",
              "      <td>เกลียด</td>\n",
              "      <td>รักเลย</td>\n",
              "      <td>22</td>\n",
              "      <td>60.0</td>\n",
              "      <td>ชาย</td>\n",
              "    </tr>\n",
              "    <tr>\n",
              "      <th>228</th>\n",
              "      <td>8/21/2020 22:33:30</td>\n",
              "      <td>เกลียด</td>\n",
              "      <td>ชอบ</td>\n",
              "      <td>ชอบ</td>\n",
              "      <td>เฉยๆ</td>\n",
              "      <td>ชอบ</td>\n",
              "      <td>เฉยๆ</td>\n",
              "      <td>รักเลย</td>\n",
              "      <td>ชอบ</td>\n",
              "      <td>เฉยๆ</td>\n",
              "      <td>เกลียด</td>\n",
              "      <td>ไม่ชอบ</td>\n",
              "      <td>เกลียด</td>\n",
              "      <td>45</td>\n",
              "      <td>60.4</td>\n",
              "      <td>ชาย</td>\n",
              "    </tr>\n",
              "    <tr>\n",
              "      <th>250</th>\n",
              "      <td>8/22/2020 10:21:29</td>\n",
              "      <td>ชอบ</td>\n",
              "      <td>เฉยๆ</td>\n",
              "      <td>ชอบ</td>\n",
              "      <td>ชอบ</td>\n",
              "      <td>รักเลย</td>\n",
              "      <td>รักเลย</td>\n",
              "      <td>เฉยๆ</td>\n",
              "      <td>ชอบ</td>\n",
              "      <td>รักเลย</td>\n",
              "      <td>รักเลย</td>\n",
              "      <td>เฉยๆ</td>\n",
              "      <td>ชอบ</td>\n",
              "      <td>47</td>\n",
              "      <td>60.0</td>\n",
              "      <td>หญิง</td>\n",
              "    </tr>\n",
              "    <tr>\n",
              "      <th>206</th>\n",
              "      <td>8/21/2020 13:56:14</td>\n",
              "      <td>ไม่ชอบ</td>\n",
              "      <td>รักเลย</td>\n",
              "      <td>รักเลย</td>\n",
              "      <td>รักเลย</td>\n",
              "      <td>ชอบ</td>\n",
              "      <td>เฉยๆ</td>\n",
              "      <td>เฉยๆ</td>\n",
              "      <td>เฉยๆ</td>\n",
              "      <td>ชอบ</td>\n",
              "      <td>ไม่ชอบ</td>\n",
              "      <td>เฉยๆ</td>\n",
              "      <td>เกลียด</td>\n",
              "      <td>23</td>\n",
              "      <td>72.0</td>\n",
              "      <td>ชาย</td>\n",
              "    </tr>\n",
              "    <tr>\n",
              "      <th>172</th>\n",
              "      <td>8/21/2020 8:27:47</td>\n",
              "      <td>ไม่ชอบ</td>\n",
              "      <td>ชอบ</td>\n",
              "      <td>ชอบ</td>\n",
              "      <td>รักเลย</td>\n",
              "      <td>เฉยๆ</td>\n",
              "      <td>รักเลย</td>\n",
              "      <td>รักเลย</td>\n",
              "      <td>ชอบ</td>\n",
              "      <td>ชอบ</td>\n",
              "      <td>เฉยๆ</td>\n",
              "      <td>รักเลย</td>\n",
              "      <td>รักเลย</td>\n",
              "      <td>23</td>\n",
              "      <td>67.0</td>\n",
              "      <td>ชาย</td>\n",
              "    </tr>\n",
              "    <tr>\n",
              "      <th>180</th>\n",
              "      <td>8/21/2020 9:07:14</td>\n",
              "      <td>รักเลย</td>\n",
              "      <td>เกลียด</td>\n",
              "      <td>เฉยๆ</td>\n",
              "      <td>เฉยๆ</td>\n",
              "      <td>รักเลย</td>\n",
              "      <td>เฉยๆ</td>\n",
              "      <td>ชอบ</td>\n",
              "      <td>รักเลย</td>\n",
              "      <td>รักเลย</td>\n",
              "      <td>ชอบ</td>\n",
              "      <td>เฉยๆ</td>\n",
              "      <td>เกลียด</td>\n",
              "      <td>43</td>\n",
              "      <td>49.0</td>\n",
              "      <td>หญิง</td>\n",
              "    </tr>\n",
              "    <tr>\n",
              "      <th>205</th>\n",
              "      <td>8/21/2020 13:53:40</td>\n",
              "      <td>ชอบ</td>\n",
              "      <td>เฉยๆ</td>\n",
              "      <td>เฉยๆ</td>\n",
              "      <td>ชอบ</td>\n",
              "      <td>เฉยๆ</td>\n",
              "      <td>รักเลย</td>\n",
              "      <td>เฉยๆ</td>\n",
              "      <td>เฉยๆ</td>\n",
              "      <td>เฉยๆ</td>\n",
              "      <td>เกลียด</td>\n",
              "      <td>เกลียด</td>\n",
              "      <td>รักเลย</td>\n",
              "      <td>20</td>\n",
              "      <td>45.0</td>\n",
              "      <td>หญิง</td>\n",
              "    </tr>\n",
              "    <tr>\n",
              "      <th>245</th>\n",
              "      <td>8/22/2020 10:20:47</td>\n",
              "      <td>ชอบ</td>\n",
              "      <td>รักเลย</td>\n",
              "      <td>เฉยๆ</td>\n",
              "      <td>เฉยๆ</td>\n",
              "      <td>เฉยๆ</td>\n",
              "      <td>เฉยๆ</td>\n",
              "      <td>ชอบ</td>\n",
              "      <td>เฉยๆ</td>\n",
              "      <td>รักเลย</td>\n",
              "      <td>เฉยๆ</td>\n",
              "      <td>เฉยๆ</td>\n",
              "      <td>ชอบ</td>\n",
              "      <td>27</td>\n",
              "      <td>90.0</td>\n",
              "      <td>ชาย</td>\n",
              "    </tr>\n",
              "    <tr>\n",
              "      <th>252</th>\n",
              "      <td>8/22/2020 10:21:41</td>\n",
              "      <td>ชอบ</td>\n",
              "      <td>เฉยๆ</td>\n",
              "      <td>ชอบ</td>\n",
              "      <td>เฉยๆ</td>\n",
              "      <td>เฉยๆ</td>\n",
              "      <td>เฉยๆ</td>\n",
              "      <td>เฉยๆ</td>\n",
              "      <td>เฉยๆ</td>\n",
              "      <td>ชอบ</td>\n",
              "      <td>ชอบ</td>\n",
              "      <td>เฉยๆ</td>\n",
              "      <td>ไม่ชอบ</td>\n",
              "      <td>54</td>\n",
              "      <td>55.0</td>\n",
              "      <td>หญิง</td>\n",
              "    </tr>\n",
              "  </tbody>\n",
              "</table>\n",
              "</div>"
            ],
            "text/plain": [
              "              Timestamp  ...   เพศ\n",
              "30   8/20/2020 20:18:37  ...   ชาย\n",
              "116  8/20/2020 22:14:45  ...  หญิง\n",
              "236  8/22/2020 10:19:59  ...   ชาย\n",
              "225  8/21/2020 21:14:59  ...  หญิง\n",
              "173   8/21/2020 8:34:10  ...  หญิง\n",
              "158   8/21/2020 1:53:49  ...   ชาย\n",
              "21   8/20/2020 19:49:55  ...  หญิง\n",
              "14   8/20/2020 19:31:22  ...      \n",
              "109  8/20/2020 22:04:31  ...   ชาย\n",
              "61   8/20/2020 21:37:04  ...   ชาย\n",
              "185   8/21/2020 9:28:09  ...  หญิง\n",
              "26   8/20/2020 19:54:47  ...   ชาย\n",
              "228  8/21/2020 22:33:30  ...   ชาย\n",
              "250  8/22/2020 10:21:29  ...  หญิง\n",
              "206  8/21/2020 13:56:14  ...   ชาย\n",
              "172   8/21/2020 8:27:47  ...   ชาย\n",
              "180   8/21/2020 9:07:14  ...  หญิง\n",
              "205  8/21/2020 13:53:40  ...  หญิง\n",
              "245  8/22/2020 10:20:47  ...   ชาย\n",
              "252  8/22/2020 10:21:41  ...  หญิง\n",
              "\n",
              "[20 rows x 16 columns]"
            ]
          },
          "metadata": {
            "tags": []
          },
          "execution_count": 4
        }
      ]
    },
    {
      "cell_type": "markdown",
      "metadata": {
        "id": "4y2CRqwTtkcp",
        "colab_type": "text"
      },
      "source": [
        "##1.2. สร้าง function เพื่อนำไปใช้ใน pipeline ของเรา\n",
        "เมื่อเราได้ code เบื้องต้นที่จะนำไปใช้ในสำหรับ download ข้อมูลจาก google sheet เรียบร้อยแล้ว เราก็ทำการแปลงให้เป็น function เพื่อครั้งต่อ ๆ ไป เราจะเรียกใช้งาน function ใน pipeline ของเรา"
      ]
    },
    {
      "cell_type": "code",
      "metadata": {
        "id": "oSfg9Qon9fyz",
        "colab_type": "code",
        "colab": {}
      },
      "source": [
        "# create function called 'load_data()'\n",
        "def load_data():\n",
        "  spreadsheet = gc.open_by_url('https://docs.google.com/spreadsheets/d/1P-_6nZBr1YBoHb5ONtuPNDPe4bXKoEeG_c5htMhXPDw/edit#gid=2049680291') # use this when you have the complete url (the edit#gid means permission)\n",
        "  sheet =  spreadsheet.get_worksheet(0)  # 0 means the first sheet in the file\n",
        "  survey_df = pd.DataFrame(sheet.get_all_records())\n",
        "  return survey_df"
      ],
      "execution_count": null,
      "outputs": []
    },
    {
      "cell_type": "markdown",
      "metadata": {
        "id": "-jE6306UuHKy",
        "colab_type": "text"
      },
      "source": [
        "ทดสอบการใช้งานฟังก์ชั่น **load_data()**"
      ]
    },
    {
      "cell_type": "code",
      "metadata": {
        "id": "EXn6J8E3Ip4Q",
        "colab_type": "code",
        "colab": {}
      },
      "source": [
        "survey_df = load_data()"
      ],
      "execution_count": null,
      "outputs": []
    },
    {
      "cell_type": "code",
      "metadata": {
        "id": "2jlXxGQUqPi7",
        "colab_type": "code",
        "colab": {
          "base_uri": "https://localhost:8080/",
          "height": 728
        },
        "outputId": "c203b0c9-1a06-4e73-b0cb-142662b2281a"
      },
      "source": [
        "survey_df"
      ],
      "execution_count": null,
      "outputs": [
        {
          "output_type": "execute_result",
          "data": {
            "text/html": [
              "<div>\n",
              "<style scoped>\n",
              "    .dataframe tbody tr th:only-of-type {\n",
              "        vertical-align: middle;\n",
              "    }\n",
              "\n",
              "    .dataframe tbody tr th {\n",
              "        vertical-align: top;\n",
              "    }\n",
              "\n",
              "    .dataframe thead th {\n",
              "        text-align: right;\n",
              "    }\n",
              "</style>\n",
              "<table border=\"1\" class=\"dataframe\">\n",
              "  <thead>\n",
              "    <tr style=\"text-align: right;\">\n",
              "      <th></th>\n",
              "      <th>Timestamp</th>\n",
              "      <th>อาหารที่ชอบ (ตอบทุกข้อ) [ส้มตำ]</th>\n",
              "      <th>อาหารที่ชอบ (ตอบทุกข้อ) [กระเพราหมูกรอบ]</th>\n",
              "      <th>อาหารที่ชอบ (ตอบทุกข้อ) [ต้มยำกุ้ง]</th>\n",
              "      <th>อาหารที่ชอบ (ตอบทุกข้อ) [ข้าวมันไก่]</th>\n",
              "      <th>อาหารที่ชอบ (ตอบทุกข้อ) [ก๋วยเตี๋ยว]</th>\n",
              "      <th>อาหารที่ชอบ (ตอบทุกข้อ) [พิซซ่า]</th>\n",
              "      <th>อาหารที่ชอบ (ตอบทุกข้อ) [ไก่ บอนชอน]</th>\n",
              "      <th>อาหารที่ชอบ (ตอบทุกข้อ) [MK สุกี้]</th>\n",
              "      <th>อาหารที่ชอบ (ตอบทุกข้อ) [อาหารทะเล]</th>\n",
              "      <th>อาหารที่ชอบ (ตอบทุกข้อ) [สลัด]</th>\n",
              "      <th>อาหารที่ชอบ (ตอบทุกข้อ) [ต้มเลือดหมู]</th>\n",
              "      <th>อาหารที่ชอบ (ตอบทุกข้อ) [ทุเรียน]</th>\n",
              "      <th>อายุ</th>\n",
              "      <th>น้ำหนักตัว (กิโลกรัม)</th>\n",
              "      <th>เพศ</th>\n",
              "    </tr>\n",
              "  </thead>\n",
              "  <tbody>\n",
              "    <tr>\n",
              "      <th>0</th>\n",
              "      <td>8/20/2020 18:51:29</td>\n",
              "      <td>รักเลย</td>\n",
              "      <td>เฉยๆ</td>\n",
              "      <td>รักเลย</td>\n",
              "      <td>เฉยๆ</td>\n",
              "      <td>ชอบ</td>\n",
              "      <td>เฉยๆ</td>\n",
              "      <td>เฉยๆ</td>\n",
              "      <td>รักเลย</td>\n",
              "      <td>รักเลย</td>\n",
              "      <td>เฉยๆ</td>\n",
              "      <td>รักเลย</td>\n",
              "      <td>เฉยๆ</td>\n",
              "      <td>30</td>\n",
              "      <td>52.45</td>\n",
              "      <td></td>\n",
              "    </tr>\n",
              "    <tr>\n",
              "      <th>1</th>\n",
              "      <td>8/20/2020 18:53:38</td>\n",
              "      <td>ชอบ</td>\n",
              "      <td>เฉยๆ</td>\n",
              "      <td>เฉยๆ</td>\n",
              "      <td>เฉยๆ</td>\n",
              "      <td>ชอบ</td>\n",
              "      <td>เฉยๆ</td>\n",
              "      <td>ชอบ</td>\n",
              "      <td>เฉยๆ</td>\n",
              "      <td>เฉยๆ</td>\n",
              "      <td>เฉยๆ</td>\n",
              "      <td>ชอบ</td>\n",
              "      <td>ชอบ</td>\n",
              "      <td>19</td>\n",
              "      <td>52.00</td>\n",
              "      <td></td>\n",
              "    </tr>\n",
              "    <tr>\n",
              "      <th>2</th>\n",
              "      <td>8/20/2020 18:57:27</td>\n",
              "      <td>เฉยๆ</td>\n",
              "      <td>ชอบ</td>\n",
              "      <td>เกลียด</td>\n",
              "      <td>เฉยๆ</td>\n",
              "      <td>เฉยๆ</td>\n",
              "      <td>ชอบ</td>\n",
              "      <td>ชอบ</td>\n",
              "      <td>เฉยๆ</td>\n",
              "      <td>เกลียด</td>\n",
              "      <td>เฉยๆ</td>\n",
              "      <td>เฉยๆ</td>\n",
              "      <td>ชอบ</td>\n",
              "      <td>34</td>\n",
              "      <td>70.00</td>\n",
              "      <td></td>\n",
              "    </tr>\n",
              "    <tr>\n",
              "      <th>3</th>\n",
              "      <td>8/20/2020 18:59:21</td>\n",
              "      <td>รักเลย</td>\n",
              "      <td>ชอบ</td>\n",
              "      <td>เกลียด</td>\n",
              "      <td>เฉยๆ</td>\n",
              "      <td>ชอบ</td>\n",
              "      <td>ชอบ</td>\n",
              "      <td>ชอบ</td>\n",
              "      <td>ชอบ</td>\n",
              "      <td>เกลียด</td>\n",
              "      <td>เฉยๆ</td>\n",
              "      <td>เกลียด</td>\n",
              "      <td>เฉยๆ</td>\n",
              "      <td>26</td>\n",
              "      <td>60.00</td>\n",
              "      <td></td>\n",
              "    </tr>\n",
              "    <tr>\n",
              "      <th>4</th>\n",
              "      <td>8/20/2020 19:10:17</td>\n",
              "      <td>เฉยๆ</td>\n",
              "      <td>ชอบ</td>\n",
              "      <td>เฉยๆ</td>\n",
              "      <td>เฉยๆ</td>\n",
              "      <td>เฉยๆ</td>\n",
              "      <td>เฉยๆ</td>\n",
              "      <td>ชอบ</td>\n",
              "      <td>เฉยๆ</td>\n",
              "      <td>เฉยๆ</td>\n",
              "      <td>เฉยๆ</td>\n",
              "      <td>ไม่ชอบ</td>\n",
              "      <td>ชอบ</td>\n",
              "      <td>34</td>\n",
              "      <td>63.00</td>\n",
              "      <td></td>\n",
              "    </tr>\n",
              "    <tr>\n",
              "      <th>...</th>\n",
              "      <td>...</td>\n",
              "      <td>...</td>\n",
              "      <td>...</td>\n",
              "      <td>...</td>\n",
              "      <td>...</td>\n",
              "      <td>...</td>\n",
              "      <td>...</td>\n",
              "      <td>...</td>\n",
              "      <td>...</td>\n",
              "      <td>...</td>\n",
              "      <td>...</td>\n",
              "      <td>...</td>\n",
              "      <td>...</td>\n",
              "      <td>...</td>\n",
              "      <td>...</td>\n",
              "      <td>...</td>\n",
              "    </tr>\n",
              "    <tr>\n",
              "      <th>263</th>\n",
              "      <td>8/22/2020 14:07:18</td>\n",
              "      <td>ชอบ</td>\n",
              "      <td>ชอบ</td>\n",
              "      <td>เฉยๆ</td>\n",
              "      <td>เฉยๆ</td>\n",
              "      <td>เฉยๆ</td>\n",
              "      <td>เฉยๆ</td>\n",
              "      <td>เฉยๆ</td>\n",
              "      <td>ชอบ</td>\n",
              "      <td>รักเลย</td>\n",
              "      <td>เฉยๆ</td>\n",
              "      <td>เฉยๆ</td>\n",
              "      <td>เกลียด</td>\n",
              "      <td>30</td>\n",
              "      <td>88.00</td>\n",
              "      <td>ชาย</td>\n",
              "    </tr>\n",
              "    <tr>\n",
              "      <th>264</th>\n",
              "      <td>8/22/2020 18:16:05</td>\n",
              "      <td>รักเลย</td>\n",
              "      <td>ชอบ</td>\n",
              "      <td>ชอบ</td>\n",
              "      <td>ชอบ</td>\n",
              "      <td>ชอบ</td>\n",
              "      <td>เกลียด</td>\n",
              "      <td>เกลียด</td>\n",
              "      <td>ชอบ</td>\n",
              "      <td>เฉยๆ</td>\n",
              "      <td>รักเลย</td>\n",
              "      <td>ชอบ</td>\n",
              "      <td>ชอบ</td>\n",
              "      <td>24</td>\n",
              "      <td>56.00</td>\n",
              "      <td>ชาย</td>\n",
              "    </tr>\n",
              "    <tr>\n",
              "      <th>265</th>\n",
              "      <td>8/22/2020 22:53:24</td>\n",
              "      <td>รักเลย</td>\n",
              "      <td>ชอบ</td>\n",
              "      <td>ชอบ</td>\n",
              "      <td>ชอบ</td>\n",
              "      <td>ชอบ</td>\n",
              "      <td>เกลียด</td>\n",
              "      <td>เกลียด</td>\n",
              "      <td>ชอบ</td>\n",
              "      <td>เฉยๆ</td>\n",
              "      <td>รักเลย</td>\n",
              "      <td>ชอบ</td>\n",
              "      <td>ชอบ</td>\n",
              "      <td>24</td>\n",
              "      <td>56.00</td>\n",
              "      <td>ชาย</td>\n",
              "    </tr>\n",
              "    <tr>\n",
              "      <th>266</th>\n",
              "      <td>8/25/2020 15:41:22</td>\n",
              "      <td>เกลียด</td>\n",
              "      <td>เฉยๆ</td>\n",
              "      <td>ชอบ</td>\n",
              "      <td>เฉยๆ</td>\n",
              "      <td>รักเลย</td>\n",
              "      <td>เฉยๆ</td>\n",
              "      <td>รักเลย</td>\n",
              "      <td>รักเลย</td>\n",
              "      <td>รักเลย</td>\n",
              "      <td>เกลียด</td>\n",
              "      <td>ชอบ</td>\n",
              "      <td>ชอบ</td>\n",
              "      <td>28</td>\n",
              "      <td>54.00</td>\n",
              "      <td>หญิง</td>\n",
              "    </tr>\n",
              "    <tr>\n",
              "      <th>267</th>\n",
              "      <td>8/25/2020 18:23:41</td>\n",
              "      <td>รักเลย</td>\n",
              "      <td>เฉยๆ</td>\n",
              "      <td>เฉยๆ</td>\n",
              "      <td>ชอบ</td>\n",
              "      <td>เฉยๆ</td>\n",
              "      <td>ไม่ชอบ</td>\n",
              "      <td>เฉยๆ</td>\n",
              "      <td>ชอบ</td>\n",
              "      <td>รักเลย</td>\n",
              "      <td>ชอบ</td>\n",
              "      <td>เกลียด</td>\n",
              "      <td>เกลียด</td>\n",
              "      <td>23</td>\n",
              "      <td>60.00</td>\n",
              "      <td>ชาย</td>\n",
              "    </tr>\n",
              "  </tbody>\n",
              "</table>\n",
              "<p>268 rows × 16 columns</p>\n",
              "</div>"
            ],
            "text/plain": [
              "              Timestamp  ...   เพศ\n",
              "0    8/20/2020 18:51:29  ...      \n",
              "1    8/20/2020 18:53:38  ...      \n",
              "2    8/20/2020 18:57:27  ...      \n",
              "3    8/20/2020 18:59:21  ...      \n",
              "4    8/20/2020 19:10:17  ...      \n",
              "..                  ...  ...   ...\n",
              "263  8/22/2020 14:07:18  ...   ชาย\n",
              "264  8/22/2020 18:16:05  ...   ชาย\n",
              "265  8/22/2020 22:53:24  ...   ชาย\n",
              "266  8/25/2020 15:41:22  ...  หญิง\n",
              "267  8/25/2020 18:23:41  ...   ชาย\n",
              "\n",
              "[268 rows x 16 columns]"
            ]
          },
          "metadata": {
            "tags": []
          },
          "execution_count": 7
        }
      ]
    },
    {
      "cell_type": "markdown",
      "metadata": {
        "id": "qT-KoZunPXkn",
        "colab_type": "text"
      },
      "source": [
        "# 2. Clean Data"
      ]
    },
    {
      "cell_type": "markdown",
      "metadata": {
        "id": "rwRWRCENuPxV",
        "colab_type": "text"
      },
      "source": [
        "ขั้นตอนถัดมา คือ การ clean data ที่ได้มา เนื่องจากเราไม่รู้ว่าข้อมูลที่เราได้มา มีความผิดปกติอะไรอยู่บ้าง เช่น มี outlier ไหม มี missing data หรือไม่ ซึ่งข้อมูลที่ผิดปกติเหล่านี้ จะทำให้ Model ของเราไม่ค่อยมีประสิทธิภาพ ดังนั้นเราต้องทำการตรวจสอบและทำการ clean ก่อนนำไปใช้งาน"
      ]
    },
    {
      "cell_type": "markdown",
      "metadata": {
        "id": "aiBdumtJwsaa",
        "colab_type": "text"
      },
      "source": [
        "##2.1. Display Dataframe and Statistic Data"
      ]
    },
    {
      "cell_type": "code",
      "metadata": {
        "id": "xl80_T4FPZVi",
        "colab_type": "code",
        "colab": {
          "base_uri": "https://localhost:8080/",
          "height": 428
        },
        "outputId": "55f56958-7839-4ae9-fb01-41718cc16eb1"
      },
      "source": [
        "# Display 5-row of dataframe\n",
        "survey_df.head()"
      ],
      "execution_count": null,
      "outputs": [
        {
          "output_type": "execute_result",
          "data": {
            "text/html": [
              "<div>\n",
              "<style scoped>\n",
              "    .dataframe tbody tr th:only-of-type {\n",
              "        vertical-align: middle;\n",
              "    }\n",
              "\n",
              "    .dataframe tbody tr th {\n",
              "        vertical-align: top;\n",
              "    }\n",
              "\n",
              "    .dataframe thead th {\n",
              "        text-align: right;\n",
              "    }\n",
              "</style>\n",
              "<table border=\"1\" class=\"dataframe\">\n",
              "  <thead>\n",
              "    <tr style=\"text-align: right;\">\n",
              "      <th></th>\n",
              "      <th>Timestamp</th>\n",
              "      <th>อาหารที่ชอบ (ตอบทุกข้อ) [ส้มตำ]</th>\n",
              "      <th>อาหารที่ชอบ (ตอบทุกข้อ) [กระเพราหมูกรอบ]</th>\n",
              "      <th>อาหารที่ชอบ (ตอบทุกข้อ) [ต้มยำกุ้ง]</th>\n",
              "      <th>อาหารที่ชอบ (ตอบทุกข้อ) [ข้าวมันไก่]</th>\n",
              "      <th>อาหารที่ชอบ (ตอบทุกข้อ) [ก๋วยเตี๋ยว]</th>\n",
              "      <th>อาหารที่ชอบ (ตอบทุกข้อ) [พิซซ่า]</th>\n",
              "      <th>อาหารที่ชอบ (ตอบทุกข้อ) [ไก่ บอนชอน]</th>\n",
              "      <th>อาหารที่ชอบ (ตอบทุกข้อ) [MK สุกี้]</th>\n",
              "      <th>อาหารที่ชอบ (ตอบทุกข้อ) [อาหารทะเล]</th>\n",
              "      <th>อาหารที่ชอบ (ตอบทุกข้อ) [สลัด]</th>\n",
              "      <th>อาหารที่ชอบ (ตอบทุกข้อ) [ต้มเลือดหมู]</th>\n",
              "      <th>อาหารที่ชอบ (ตอบทุกข้อ) [ทุเรียน]</th>\n",
              "      <th>อายุ</th>\n",
              "      <th>น้ำหนักตัว (กิโลกรัม)</th>\n",
              "      <th>เพศ</th>\n",
              "    </tr>\n",
              "  </thead>\n",
              "  <tbody>\n",
              "    <tr>\n",
              "      <th>0</th>\n",
              "      <td>8/20/2020 18:51:29</td>\n",
              "      <td>รักเลย</td>\n",
              "      <td>เฉยๆ</td>\n",
              "      <td>รักเลย</td>\n",
              "      <td>เฉยๆ</td>\n",
              "      <td>ชอบ</td>\n",
              "      <td>เฉยๆ</td>\n",
              "      <td>เฉยๆ</td>\n",
              "      <td>รักเลย</td>\n",
              "      <td>รักเลย</td>\n",
              "      <td>เฉยๆ</td>\n",
              "      <td>รักเลย</td>\n",
              "      <td>เฉยๆ</td>\n",
              "      <td>30</td>\n",
              "      <td>52.45</td>\n",
              "      <td></td>\n",
              "    </tr>\n",
              "    <tr>\n",
              "      <th>1</th>\n",
              "      <td>8/20/2020 18:53:38</td>\n",
              "      <td>ชอบ</td>\n",
              "      <td>เฉยๆ</td>\n",
              "      <td>เฉยๆ</td>\n",
              "      <td>เฉยๆ</td>\n",
              "      <td>ชอบ</td>\n",
              "      <td>เฉยๆ</td>\n",
              "      <td>ชอบ</td>\n",
              "      <td>เฉยๆ</td>\n",
              "      <td>เฉยๆ</td>\n",
              "      <td>เฉยๆ</td>\n",
              "      <td>ชอบ</td>\n",
              "      <td>ชอบ</td>\n",
              "      <td>19</td>\n",
              "      <td>52.00</td>\n",
              "      <td></td>\n",
              "    </tr>\n",
              "    <tr>\n",
              "      <th>2</th>\n",
              "      <td>8/20/2020 18:57:27</td>\n",
              "      <td>เฉยๆ</td>\n",
              "      <td>ชอบ</td>\n",
              "      <td>เกลียด</td>\n",
              "      <td>เฉยๆ</td>\n",
              "      <td>เฉยๆ</td>\n",
              "      <td>ชอบ</td>\n",
              "      <td>ชอบ</td>\n",
              "      <td>เฉยๆ</td>\n",
              "      <td>เกลียด</td>\n",
              "      <td>เฉยๆ</td>\n",
              "      <td>เฉยๆ</td>\n",
              "      <td>ชอบ</td>\n",
              "      <td>34</td>\n",
              "      <td>70.00</td>\n",
              "      <td></td>\n",
              "    </tr>\n",
              "    <tr>\n",
              "      <th>3</th>\n",
              "      <td>8/20/2020 18:59:21</td>\n",
              "      <td>รักเลย</td>\n",
              "      <td>ชอบ</td>\n",
              "      <td>เกลียด</td>\n",
              "      <td>เฉยๆ</td>\n",
              "      <td>ชอบ</td>\n",
              "      <td>ชอบ</td>\n",
              "      <td>ชอบ</td>\n",
              "      <td>ชอบ</td>\n",
              "      <td>เกลียด</td>\n",
              "      <td>เฉยๆ</td>\n",
              "      <td>เกลียด</td>\n",
              "      <td>เฉยๆ</td>\n",
              "      <td>26</td>\n",
              "      <td>60.00</td>\n",
              "      <td></td>\n",
              "    </tr>\n",
              "    <tr>\n",
              "      <th>4</th>\n",
              "      <td>8/20/2020 19:10:17</td>\n",
              "      <td>เฉยๆ</td>\n",
              "      <td>ชอบ</td>\n",
              "      <td>เฉยๆ</td>\n",
              "      <td>เฉยๆ</td>\n",
              "      <td>เฉยๆ</td>\n",
              "      <td>เฉยๆ</td>\n",
              "      <td>ชอบ</td>\n",
              "      <td>เฉยๆ</td>\n",
              "      <td>เฉยๆ</td>\n",
              "      <td>เฉยๆ</td>\n",
              "      <td>ไม่ชอบ</td>\n",
              "      <td>ชอบ</td>\n",
              "      <td>34</td>\n",
              "      <td>63.00</td>\n",
              "      <td></td>\n",
              "    </tr>\n",
              "  </tbody>\n",
              "</table>\n",
              "</div>"
            ],
            "text/plain": [
              "            Timestamp  ... เพศ\n",
              "0  8/20/2020 18:51:29  ...    \n",
              "1  8/20/2020 18:53:38  ...    \n",
              "2  8/20/2020 18:57:27  ...    \n",
              "3  8/20/2020 18:59:21  ...    \n",
              "4  8/20/2020 19:10:17  ...    \n",
              "\n",
              "[5 rows x 16 columns]"
            ]
          },
          "metadata": {
            "tags": []
          },
          "execution_count": 8
        }
      ]
    },
    {
      "cell_type": "code",
      "metadata": {
        "id": "1ZPTOseiIdl7",
        "colab_type": "code",
        "colab": {
          "base_uri": "https://localhost:8080/",
          "height": 408
        },
        "outputId": "17a67149-62d0-4364-d07d-b17c3f83e134"
      },
      "source": [
        "# Check null and dtype\n",
        "survey_df.info()"
      ],
      "execution_count": null,
      "outputs": [
        {
          "output_type": "stream",
          "text": [
            "<class 'pandas.core.frame.DataFrame'>\n",
            "RangeIndex: 268 entries, 0 to 267\n",
            "Data columns (total 16 columns):\n",
            " #   Column                                    Non-Null Count  Dtype  \n",
            "---  ------                                    --------------  -----  \n",
            " 0   Timestamp                                 268 non-null    object \n",
            " 1   อาหารที่ชอบ (ตอบทุกข้อ) [ส้มตำ]           268 non-null    object \n",
            " 2   อาหารที่ชอบ (ตอบทุกข้อ) [กระเพราหมูกรอบ]  268 non-null    object \n",
            " 3   อาหารที่ชอบ (ตอบทุกข้อ) [ต้มยำกุ้ง]       268 non-null    object \n",
            " 4   อาหารที่ชอบ (ตอบทุกข้อ) [ข้าวมันไก่]      268 non-null    object \n",
            " 5   อาหารที่ชอบ (ตอบทุกข้อ) [ก๋วยเตี๋ยว]      268 non-null    object \n",
            " 6   อาหารที่ชอบ (ตอบทุกข้อ) [พิซซ่า]          268 non-null    object \n",
            " 7   อาหารที่ชอบ (ตอบทุกข้อ) [ไก่ บอนชอน]      268 non-null    object \n",
            " 8   อาหารที่ชอบ (ตอบทุกข้อ) [MK สุกี้]        268 non-null    object \n",
            " 9   อาหารที่ชอบ (ตอบทุกข้อ) [อาหารทะเล]       268 non-null    object \n",
            " 10  อาหารที่ชอบ (ตอบทุกข้อ) [สลัด]            268 non-null    object \n",
            " 11  อาหารที่ชอบ (ตอบทุกข้อ) [ต้มเลือดหมู]     268 non-null    object \n",
            " 12  อาหารที่ชอบ (ตอบทุกข้อ) [ทุเรียน]         268 non-null    object \n",
            " 13  อายุ                                      268 non-null    int64  \n",
            " 14  น้ำหนักตัว (กิโลกรัม)                     268 non-null    float64\n",
            " 15  เพศ                                       268 non-null    object \n",
            "dtypes: float64(1), int64(1), object(14)\n",
            "memory usage: 33.6+ KB\n"
          ],
          "name": "stdout"
        }
      ]
    },
    {
      "cell_type": "markdown",
      "metadata": {
        "id": "EJs7wQW7u-Y_",
        "colab_type": "text"
      },
      "source": [
        "จากชุดข้อมูลที่เรามี พบ่าข้อมูลส่วนมากมี type เป็น object มีข้อมูลแค่ 2 columns เท่านั้นที่เป็นตัวเลข ได้แก่ **อายุ (int64)** กับ **น้ำหนักตัว (float64)** และไม่มีข้อมูลที่เป็น **Null** (Null คือ ไม่มีข้อมูล)\n",
        "\n",
        "เรามาดูค่าทางสถิติของ column ที่เป็นต้วเลขกัน **(อายุ และ น้ำหนัก)** โดยใช้ ```dataframe.describe()``` เราสามารถดู outlier แบบเร็ว ๆ จากการใช้ ```dataframe.describe()```"
      ]
    },
    {
      "cell_type": "code",
      "metadata": {
        "id": "VXYlBVmdPsuH",
        "colab_type": "code",
        "colab": {
          "base_uri": "https://localhost:8080/",
          "height": 297
        },
        "outputId": "4aacdeac-3c35-4232-d26c-5b0363c7772d"
      },
      "source": [
        "# Display statistic information\n",
        "survey_df.describe()"
      ],
      "execution_count": null,
      "outputs": [
        {
          "output_type": "execute_result",
          "data": {
            "text/html": [
              "<div>\n",
              "<style scoped>\n",
              "    .dataframe tbody tr th:only-of-type {\n",
              "        vertical-align: middle;\n",
              "    }\n",
              "\n",
              "    .dataframe tbody tr th {\n",
              "        vertical-align: top;\n",
              "    }\n",
              "\n",
              "    .dataframe thead th {\n",
              "        text-align: right;\n",
              "    }\n",
              "</style>\n",
              "<table border=\"1\" class=\"dataframe\">\n",
              "  <thead>\n",
              "    <tr style=\"text-align: right;\">\n",
              "      <th></th>\n",
              "      <th>อายุ</th>\n",
              "      <th>น้ำหนักตัว (กิโลกรัม)</th>\n",
              "    </tr>\n",
              "  </thead>\n",
              "  <tbody>\n",
              "    <tr>\n",
              "      <th>count</th>\n",
              "      <td>268.000000</td>\n",
              "      <td>268.000000</td>\n",
              "    </tr>\n",
              "    <tr>\n",
              "      <th>mean</th>\n",
              "      <td>67.473881</td>\n",
              "      <td>67.777052</td>\n",
              "    </tr>\n",
              "    <tr>\n",
              "      <th>std</th>\n",
              "      <td>609.013216</td>\n",
              "      <td>19.612260</td>\n",
              "    </tr>\n",
              "    <tr>\n",
              "      <th>min</th>\n",
              "      <td>-20.000000</td>\n",
              "      <td>30.000000</td>\n",
              "    </tr>\n",
              "    <tr>\n",
              "      <th>25%</th>\n",
              "      <td>24.000000</td>\n",
              "      <td>54.000000</td>\n",
              "    </tr>\n",
              "    <tr>\n",
              "      <th>50%</th>\n",
              "      <td>28.000000</td>\n",
              "      <td>65.000000</td>\n",
              "    </tr>\n",
              "    <tr>\n",
              "      <th>75%</th>\n",
              "      <td>35.000000</td>\n",
              "      <td>74.250000</td>\n",
              "    </tr>\n",
              "    <tr>\n",
              "      <th>max</th>\n",
              "      <td>9999.000000</td>\n",
              "      <td>190.000000</td>\n",
              "    </tr>\n",
              "  </tbody>\n",
              "</table>\n",
              "</div>"
            ],
            "text/plain": [
              "              อายุ  น้ำหนักตัว (กิโลกรัม)\n",
              "count   268.000000             268.000000\n",
              "mean     67.473881              67.777052\n",
              "std     609.013216              19.612260\n",
              "min     -20.000000              30.000000\n",
              "25%      24.000000              54.000000\n",
              "50%      28.000000              65.000000\n",
              "75%      35.000000              74.250000\n",
              "max    9999.000000             190.000000"
            ]
          },
          "metadata": {
            "tags": []
          },
          "execution_count": 10
        }
      ]
    },
    {
      "cell_type": "markdown",
      "metadata": {
        "id": "KShJqdiqwLMi",
        "colab_type": "text"
      },
      "source": [
        "เห็นได้ว่ามีความผิดปกติของช่วง **อายุ** ค่าน้อยสุดของอายุคือ **-20** และค่ามากสุดคือ **9999** น่าจะมีคนวาง bug ไว้ในแบบสอบถามแน่นอน"
      ]
    },
    {
      "cell_type": "markdown",
      "metadata": {
        "id": "5BvfC10nwjiH",
        "colab_type": "text"
      },
      "source": [
        "##2.2. Visualize ข้อมูล"
      ]
    },
    {
      "cell_type": "markdown",
      "metadata": {
        "id": "iqvuznP2w5-U",
        "colab_type": "text"
      },
      "source": [
        "เนื่องจากชุดข้อมูลเป็นตัวเลข ซึ่งค่อนข้างลำบากในการทำความเข้าใจ เราจึงใช้การแสดงข้อมูลด้วย graph เพราะง่ายต่อการดูและวิเคราะห์ ซึ่งนี่เป็นอีกหนึ่งวิธีในการหา Outlier และดู distribution ของข้อมูล"
      ]
    },
    {
      "cell_type": "code",
      "metadata": {
        "id": "51-zWWx7Xtpw",
        "colab_type": "code",
        "colab": {
          "base_uri": "https://localhost:8080/",
          "height": 263
        },
        "outputId": "314c0faf-1d3d-46be-9727-5cdd433c4225"
      },
      "source": [
        "# นับจำนวนผู้ตอบแบบสอบถามที่อยู่ในแต่ละช่วงอายุ\n",
        "survey_df['อายุ'].value_counts().sort_index().plot(kind='bar', figsize=(16,4))"
      ],
      "execution_count": null,
      "outputs": [
        {
          "output_type": "execute_result",
          "data": {
            "text/plain": [
              "<matplotlib.axes._subplots.AxesSubplot at 0x7f3d9650e550>"
            ]
          },
          "metadata": {
            "tags": []
          },
          "execution_count": 11
        },
        {
          "output_type": "display_data",
          "data": {
            "image/png": "[encoded data removed]",
            "text/plain": [
              "<Figure size 1152x288 with 1 Axes>"
            ]
          },
          "metadata": {
            "tags": [],
            "needs_background": "light"
          }
        }
      ]
    },
    {
      "cell_type": "code",
      "metadata": {
        "id": "Q2TuVCXmYyer",
        "colab_type": "code",
        "colab": {
          "base_uri": "https://localhost:8080/",
          "height": 284
        },
        "outputId": "fda8d076-7ead-485c-80db-e9777e3b8efb"
      },
      "source": [
        "survey_df['น้ำหนักตัว (กิโลกรัม)'].value_counts().sort_index().plot(kind='bar', figsize=(16,4))"
      ],
      "execution_count": null,
      "outputs": [
        {
          "output_type": "execute_result",
          "data": {
            "text/plain": [
              "<matplotlib.axes._subplots.AxesSubplot at 0x7f7ed3e256a0>"
            ]
          },
          "metadata": {
            "tags": []
          },
          "execution_count": 11
        },
        {
          "output_type": "display_data",
          "data": {
            "image/png": "[encoded data removed]",
            "text/plain": [
              "<Figure size 1152x288 with 1 Axes>"
            ]
          },
          "metadata": {
            "tags": [],
            "needs_background": "light"
          }
        }
      ]
    },
    {
      "cell_type": "code",
      "metadata": {
        "id": "klVC4BxRrJVM",
        "colab_type": "code",
        "colab": {
          "base_uri": "https://localhost:8080/",
          "height": 85
        },
        "outputId": "4df0cfe2-2210-4897-9bf1-7d60aaccd585"
      },
      "source": [
        "survey_df['เพศ'].value_counts()"
      ],
      "execution_count": null,
      "outputs": [
        {
          "output_type": "execute_result",
          "data": {
            "text/plain": [
              "ชาย     157\n",
              "หญิง     91\n",
              "         20\n",
              "Name: เพศ, dtype: int64"
            ]
          },
          "metadata": {
            "tags": []
          },
          "execution_count": 12
        }
      ]
    },
    {
      "cell_type": "code",
      "metadata": {
        "id": "z1wKKSCtrbku",
        "colab_type": "code",
        "colab": {
          "base_uri": "https://localhost:8080/",
          "height": 669
        },
        "outputId": "6cae4277-a922-4a6c-e92c-9f0996ec448f"
      },
      "source": [
        "survey_df[['อายุ','น้ำหนักตัว (กิโลกรัม)']].loc[survey_df['เพศ']=='']"
      ],
      "execution_count": null,
      "outputs": [
        {
          "output_type": "execute_result",
          "data": {
            "text/html": [
              "<div>\n",
              "<style scoped>\n",
              "    .dataframe tbody tr th:only-of-type {\n",
              "        vertical-align: middle;\n",
              "    }\n",
              "\n",
              "    .dataframe tbody tr th {\n",
              "        vertical-align: top;\n",
              "    }\n",
              "\n",
              "    .dataframe thead th {\n",
              "        text-align: right;\n",
              "    }\n",
              "</style>\n",
              "<table border=\"1\" class=\"dataframe\">\n",
              "  <thead>\n",
              "    <tr style=\"text-align: right;\">\n",
              "      <th></th>\n",
              "      <th>อายุ</th>\n",
              "      <th>น้ำหนักตัว (กิโลกรัม)</th>\n",
              "    </tr>\n",
              "  </thead>\n",
              "  <tbody>\n",
              "    <tr>\n",
              "      <th>0</th>\n",
              "      <td>30</td>\n",
              "      <td>52.45</td>\n",
              "    </tr>\n",
              "    <tr>\n",
              "      <th>1</th>\n",
              "      <td>19</td>\n",
              "      <td>52.00</td>\n",
              "    </tr>\n",
              "    <tr>\n",
              "      <th>2</th>\n",
              "      <td>34</td>\n",
              "      <td>70.00</td>\n",
              "    </tr>\n",
              "    <tr>\n",
              "      <th>3</th>\n",
              "      <td>26</td>\n",
              "      <td>60.00</td>\n",
              "    </tr>\n",
              "    <tr>\n",
              "      <th>4</th>\n",
              "      <td>34</td>\n",
              "      <td>63.00</td>\n",
              "    </tr>\n",
              "    <tr>\n",
              "      <th>5</th>\n",
              "      <td>27</td>\n",
              "      <td>88.00</td>\n",
              "    </tr>\n",
              "    <tr>\n",
              "      <th>6</th>\n",
              "      <td>37</td>\n",
              "      <td>80.00</td>\n",
              "    </tr>\n",
              "    <tr>\n",
              "      <th>7</th>\n",
              "      <td>22</td>\n",
              "      <td>37.00</td>\n",
              "    </tr>\n",
              "    <tr>\n",
              "      <th>8</th>\n",
              "      <td>28</td>\n",
              "      <td>77.00</td>\n",
              "    </tr>\n",
              "    <tr>\n",
              "      <th>9</th>\n",
              "      <td>29</td>\n",
              "      <td>46.00</td>\n",
              "    </tr>\n",
              "    <tr>\n",
              "      <th>10</th>\n",
              "      <td>24</td>\n",
              "      <td>90.00</td>\n",
              "    </tr>\n",
              "    <tr>\n",
              "      <th>11</th>\n",
              "      <td>29</td>\n",
              "      <td>48.00</td>\n",
              "    </tr>\n",
              "    <tr>\n",
              "      <th>12</th>\n",
              "      <td>35</td>\n",
              "      <td>48.00</td>\n",
              "    </tr>\n",
              "    <tr>\n",
              "      <th>13</th>\n",
              "      <td>26</td>\n",
              "      <td>80.00</td>\n",
              "    </tr>\n",
              "    <tr>\n",
              "      <th>14</th>\n",
              "      <td>34</td>\n",
              "      <td>58.00</td>\n",
              "    </tr>\n",
              "    <tr>\n",
              "      <th>15</th>\n",
              "      <td>27</td>\n",
              "      <td>45.00</td>\n",
              "    </tr>\n",
              "    <tr>\n",
              "      <th>16</th>\n",
              "      <td>21</td>\n",
              "      <td>60.00</td>\n",
              "    </tr>\n",
              "    <tr>\n",
              "      <th>17</th>\n",
              "      <td>39</td>\n",
              "      <td>69.00</td>\n",
              "    </tr>\n",
              "    <tr>\n",
              "      <th>18</th>\n",
              "      <td>31</td>\n",
              "      <td>52.00</td>\n",
              "    </tr>\n",
              "    <tr>\n",
              "      <th>19</th>\n",
              "      <td>27</td>\n",
              "      <td>70.00</td>\n",
              "    </tr>\n",
              "  </tbody>\n",
              "</table>\n",
              "</div>"
            ],
            "text/plain": [
              "    อายุ  น้ำหนักตัว (กิโลกรัม)\n",
              "0     30                  52.45\n",
              "1     19                  52.00\n",
              "2     34                  70.00\n",
              "3     26                  60.00\n",
              "4     34                  63.00\n",
              "5     27                  88.00\n",
              "6     37                  80.00\n",
              "7     22                  37.00\n",
              "8     28                  77.00\n",
              "9     29                  46.00\n",
              "10    24                  90.00\n",
              "11    29                  48.00\n",
              "12    35                  48.00\n",
              "13    26                  80.00\n",
              "14    34                  58.00\n",
              "15    27                  45.00\n",
              "16    21                  60.00\n",
              "17    39                  69.00\n",
              "18    31                  52.00\n",
              "19    27                  70.00"
            ]
          },
          "metadata": {
            "tags": []
          },
          "execution_count": 13
        }
      ]
    },
    {
      "cell_type": "code",
      "metadata": {
        "id": "ggQsAoe3QE1t",
        "colab_type": "code",
        "colab": {
          "base_uri": "https://localhost:8080/",
          "height": 289
        },
        "outputId": "07c9e6d8-d2e6-4c72-e3dd-bfa980cc80bb"
      },
      "source": [
        "from googletrans import Translator\n",
        "import re\n",
        "\n",
        "def rename_column(column_names):\n",
        "  translator = Translator()\n",
        "  res = []\n",
        "  name = ''\n",
        "  for index, value in enumerate(column_names):\n",
        "    if re.search(r'\\[(.*?)\\]', value) != None:\n",
        "      name = re.findall(r'\\[(.+)\\]', value)[0]\n",
        "    else:\n",
        "      name = value\n",
        "\n",
        "    res.append(translator.translate(name, dest='en').text)\n",
        "  return res\n",
        "\n",
        "column_names = survey_df.columns.values\n",
        "column_names\n",
        "eng_column_names = rename_column(column_names)\n",
        "eng_column_names"
      ],
      "execution_count": null,
      "outputs": [
        {
          "output_type": "execute_result",
          "data": {
            "text/plain": [
              "['Timestamp',\n",
              " 'green papaya salad',\n",
              " 'Crispy Pork Basil',\n",
              " 'Tom Yum Kung',\n",
              " 'Chicken rice',\n",
              " 'noodle',\n",
              " 'Pizza',\n",
              " 'Bonchon Chicken',\n",
              " 'MK Suki',\n",
              " 'Seafood',\n",
              " 'salad',\n",
              " 'Boiled pork blood',\n",
              " 'Durian',\n",
              " 'age',\n",
              " 'Body weight (kg)',\n",
              " 'sex']"
            ]
          },
          "metadata": {
            "tags": []
          },
          "execution_count": 15
        }
      ]
    },
    {
      "cell_type": "code",
      "metadata": {
        "id": "K-_ZhcqNT5XP",
        "colab_type": "code",
        "colab": {
          "base_uri": "https://localhost:8080/",
          "height": 728
        },
        "outputId": "5f5f867f-f001-4903-bca9-73d522f36805"
      },
      "source": [
        "survey_df"
      ],
      "execution_count": null,
      "outputs": [
        {
          "output_type": "execute_result",
          "data": {
            "text/html": [
              "<div>\n",
              "<style scoped>\n",
              "    .dataframe tbody tr th:only-of-type {\n",
              "        vertical-align: middle;\n",
              "    }\n",
              "\n",
              "    .dataframe tbody tr th {\n",
              "        vertical-align: top;\n",
              "    }\n",
              "\n",
              "    .dataframe thead th {\n",
              "        text-align: right;\n",
              "    }\n",
              "</style>\n",
              "<table border=\"1\" class=\"dataframe\">\n",
              "  <thead>\n",
              "    <tr style=\"text-align: right;\">\n",
              "      <th></th>\n",
              "      <th>Timestamp</th>\n",
              "      <th>อาหารที่ชอบ (ตอบทุกข้อ) [ส้มตำ]</th>\n",
              "      <th>อาหารที่ชอบ (ตอบทุกข้อ) [กระเพราหมูกรอบ]</th>\n",
              "      <th>อาหารที่ชอบ (ตอบทุกข้อ) [ต้มยำกุ้ง]</th>\n",
              "      <th>อาหารที่ชอบ (ตอบทุกข้อ) [ข้าวมันไก่]</th>\n",
              "      <th>อาหารที่ชอบ (ตอบทุกข้อ) [ก๋วยเตี๋ยว]</th>\n",
              "      <th>อาหารที่ชอบ (ตอบทุกข้อ) [พิซซ่า]</th>\n",
              "      <th>อาหารที่ชอบ (ตอบทุกข้อ) [ไก่ บอนชอน]</th>\n",
              "      <th>อาหารที่ชอบ (ตอบทุกข้อ) [MK สุกี้]</th>\n",
              "      <th>อาหารที่ชอบ (ตอบทุกข้อ) [อาหารทะเล]</th>\n",
              "      <th>อาหารที่ชอบ (ตอบทุกข้อ) [สลัด]</th>\n",
              "      <th>อาหารที่ชอบ (ตอบทุกข้อ) [ต้มเลือดหมู]</th>\n",
              "      <th>อาหารที่ชอบ (ตอบทุกข้อ) [ทุเรียน]</th>\n",
              "      <th>อายุ</th>\n",
              "      <th>น้ำหนักตัว (กิโลกรัม)</th>\n",
              "      <th>เพศ</th>\n",
              "    </tr>\n",
              "  </thead>\n",
              "  <tbody>\n",
              "    <tr>\n",
              "      <th>0</th>\n",
              "      <td>8/20/2020 18:51:29</td>\n",
              "      <td>รักเลย</td>\n",
              "      <td>เฉยๆ</td>\n",
              "      <td>รักเลย</td>\n",
              "      <td>เฉยๆ</td>\n",
              "      <td>ชอบ</td>\n",
              "      <td>เฉยๆ</td>\n",
              "      <td>เฉยๆ</td>\n",
              "      <td>รักเลย</td>\n",
              "      <td>รักเลย</td>\n",
              "      <td>เฉยๆ</td>\n",
              "      <td>รักเลย</td>\n",
              "      <td>เฉยๆ</td>\n",
              "      <td>30</td>\n",
              "      <td>52.45</td>\n",
              "      <td></td>\n",
              "    </tr>\n",
              "    <tr>\n",
              "      <th>1</th>\n",
              "      <td>8/20/2020 18:53:38</td>\n",
              "      <td>ชอบ</td>\n",
              "      <td>เฉยๆ</td>\n",
              "      <td>เฉยๆ</td>\n",
              "      <td>เฉยๆ</td>\n",
              "      <td>ชอบ</td>\n",
              "      <td>เฉยๆ</td>\n",
              "      <td>ชอบ</td>\n",
              "      <td>เฉยๆ</td>\n",
              "      <td>เฉยๆ</td>\n",
              "      <td>เฉยๆ</td>\n",
              "      <td>ชอบ</td>\n",
              "      <td>ชอบ</td>\n",
              "      <td>19</td>\n",
              "      <td>52.00</td>\n",
              "      <td></td>\n",
              "    </tr>\n",
              "    <tr>\n",
              "      <th>2</th>\n",
              "      <td>8/20/2020 18:57:27</td>\n",
              "      <td>เฉยๆ</td>\n",
              "      <td>ชอบ</td>\n",
              "      <td>เกลียด</td>\n",
              "      <td>เฉยๆ</td>\n",
              "      <td>เฉยๆ</td>\n",
              "      <td>ชอบ</td>\n",
              "      <td>ชอบ</td>\n",
              "      <td>เฉยๆ</td>\n",
              "      <td>เกลียด</td>\n",
              "      <td>เฉยๆ</td>\n",
              "      <td>เฉยๆ</td>\n",
              "      <td>ชอบ</td>\n",
              "      <td>34</td>\n",
              "      <td>70.00</td>\n",
              "      <td></td>\n",
              "    </tr>\n",
              "    <tr>\n",
              "      <th>3</th>\n",
              "      <td>8/20/2020 18:59:21</td>\n",
              "      <td>รักเลย</td>\n",
              "      <td>ชอบ</td>\n",
              "      <td>เกลียด</td>\n",
              "      <td>เฉยๆ</td>\n",
              "      <td>ชอบ</td>\n",
              "      <td>ชอบ</td>\n",
              "      <td>ชอบ</td>\n",
              "      <td>ชอบ</td>\n",
              "      <td>เกลียด</td>\n",
              "      <td>เฉยๆ</td>\n",
              "      <td>เกลียด</td>\n",
              "      <td>เฉยๆ</td>\n",
              "      <td>26</td>\n",
              "      <td>60.00</td>\n",
              "      <td></td>\n",
              "    </tr>\n",
              "    <tr>\n",
              "      <th>4</th>\n",
              "      <td>8/20/2020 19:10:17</td>\n",
              "      <td>เฉยๆ</td>\n",
              "      <td>ชอบ</td>\n",
              "      <td>เฉยๆ</td>\n",
              "      <td>เฉยๆ</td>\n",
              "      <td>เฉยๆ</td>\n",
              "      <td>เฉยๆ</td>\n",
              "      <td>ชอบ</td>\n",
              "      <td>เฉยๆ</td>\n",
              "      <td>เฉยๆ</td>\n",
              "      <td>เฉยๆ</td>\n",
              "      <td>ไม่ชอบ</td>\n",
              "      <td>ชอบ</td>\n",
              "      <td>34</td>\n",
              "      <td>63.00</td>\n",
              "      <td></td>\n",
              "    </tr>\n",
              "    <tr>\n",
              "      <th>...</th>\n",
              "      <td>...</td>\n",
              "      <td>...</td>\n",
              "      <td>...</td>\n",
              "      <td>...</td>\n",
              "      <td>...</td>\n",
              "      <td>...</td>\n",
              "      <td>...</td>\n",
              "      <td>...</td>\n",
              "      <td>...</td>\n",
              "      <td>...</td>\n",
              "      <td>...</td>\n",
              "      <td>...</td>\n",
              "      <td>...</td>\n",
              "      <td>...</td>\n",
              "      <td>...</td>\n",
              "      <td>...</td>\n",
              "    </tr>\n",
              "    <tr>\n",
              "      <th>263</th>\n",
              "      <td>8/22/2020 14:07:18</td>\n",
              "      <td>ชอบ</td>\n",
              "      <td>ชอบ</td>\n",
              "      <td>เฉยๆ</td>\n",
              "      <td>เฉยๆ</td>\n",
              "      <td>เฉยๆ</td>\n",
              "      <td>เฉยๆ</td>\n",
              "      <td>เฉยๆ</td>\n",
              "      <td>ชอบ</td>\n",
              "      <td>รักเลย</td>\n",
              "      <td>เฉยๆ</td>\n",
              "      <td>เฉยๆ</td>\n",
              "      <td>เกลียด</td>\n",
              "      <td>30</td>\n",
              "      <td>88.00</td>\n",
              "      <td>ชาย</td>\n",
              "    </tr>\n",
              "    <tr>\n",
              "      <th>264</th>\n",
              "      <td>8/22/2020 18:16:05</td>\n",
              "      <td>รักเลย</td>\n",
              "      <td>ชอบ</td>\n",
              "      <td>ชอบ</td>\n",
              "      <td>ชอบ</td>\n",
              "      <td>ชอบ</td>\n",
              "      <td>เกลียด</td>\n",
              "      <td>เกลียด</td>\n",
              "      <td>ชอบ</td>\n",
              "      <td>เฉยๆ</td>\n",
              "      <td>รักเลย</td>\n",
              "      <td>ชอบ</td>\n",
              "      <td>ชอบ</td>\n",
              "      <td>24</td>\n",
              "      <td>56.00</td>\n",
              "      <td>ชาย</td>\n",
              "    </tr>\n",
              "    <tr>\n",
              "      <th>265</th>\n",
              "      <td>8/22/2020 22:53:24</td>\n",
              "      <td>รักเลย</td>\n",
              "      <td>ชอบ</td>\n",
              "      <td>ชอบ</td>\n",
              "      <td>ชอบ</td>\n",
              "      <td>ชอบ</td>\n",
              "      <td>เกลียด</td>\n",
              "      <td>เกลียด</td>\n",
              "      <td>ชอบ</td>\n",
              "      <td>เฉยๆ</td>\n",
              "      <td>รักเลย</td>\n",
              "      <td>ชอบ</td>\n",
              "      <td>ชอบ</td>\n",
              "      <td>24</td>\n",
              "      <td>56.00</td>\n",
              "      <td>ชาย</td>\n",
              "    </tr>\n",
              "    <tr>\n",
              "      <th>266</th>\n",
              "      <td>8/25/2020 15:41:22</td>\n",
              "      <td>เกลียด</td>\n",
              "      <td>เฉยๆ</td>\n",
              "      <td>ชอบ</td>\n",
              "      <td>เฉยๆ</td>\n",
              "      <td>รักเลย</td>\n",
              "      <td>เฉยๆ</td>\n",
              "      <td>รักเลย</td>\n",
              "      <td>รักเลย</td>\n",
              "      <td>รักเลย</td>\n",
              "      <td>เกลียด</td>\n",
              "      <td>ชอบ</td>\n",
              "      <td>ชอบ</td>\n",
              "      <td>28</td>\n",
              "      <td>54.00</td>\n",
              "      <td>หญิง</td>\n",
              "    </tr>\n",
              "    <tr>\n",
              "      <th>267</th>\n",
              "      <td>8/25/2020 18:23:41</td>\n",
              "      <td>รักเลย</td>\n",
              "      <td>เฉยๆ</td>\n",
              "      <td>เฉยๆ</td>\n",
              "      <td>ชอบ</td>\n",
              "      <td>เฉยๆ</td>\n",
              "      <td>ไม่ชอบ</td>\n",
              "      <td>เฉยๆ</td>\n",
              "      <td>ชอบ</td>\n",
              "      <td>รักเลย</td>\n",
              "      <td>ชอบ</td>\n",
              "      <td>เกลียด</td>\n",
              "      <td>เกลียด</td>\n",
              "      <td>23</td>\n",
              "      <td>60.00</td>\n",
              "      <td>ชาย</td>\n",
              "    </tr>\n",
              "  </tbody>\n",
              "</table>\n",
              "<p>268 rows × 16 columns</p>\n",
              "</div>"
            ],
            "text/plain": [
              "              Timestamp  ...   เพศ\n",
              "0    8/20/2020 18:51:29  ...      \n",
              "1    8/20/2020 18:53:38  ...      \n",
              "2    8/20/2020 18:57:27  ...      \n",
              "3    8/20/2020 18:59:21  ...      \n",
              "4    8/20/2020 19:10:17  ...      \n",
              "..                  ...  ...   ...\n",
              "263  8/22/2020 14:07:18  ...   ชาย\n",
              "264  8/22/2020 18:16:05  ...   ชาย\n",
              "265  8/22/2020 22:53:24  ...   ชาย\n",
              "266  8/25/2020 15:41:22  ...  หญิง\n",
              "267  8/25/2020 18:23:41  ...   ชาย\n",
              "\n",
              "[268 rows x 16 columns]"
            ]
          },
          "metadata": {
            "tags": []
          },
          "execution_count": 16
        }
      ]
    },
    {
      "cell_type": "code",
      "metadata": {
        "id": "jHIUd__TUMsZ",
        "colab_type": "code",
        "colab": {
          "base_uri": "https://localhost:8080/",
          "height": 221
        },
        "outputId": "b7e300b1-627b-498f-8e7f-1967cd36dceb"
      },
      "source": [
        "feature_map = {'เกลียด': 1, 'ไม่ชอบ': 2, 'เฉยๆ': 3, 'ชอบ': 4, 'รักเลย': 5}\n",
        "survey_df['อาหารที่ชอบ (ตอบทุกข้อ) [ส้มตำ]'].map(feature_map)"
      ],
      "execution_count": null,
      "outputs": [
        {
          "output_type": "execute_result",
          "data": {
            "text/plain": [
              "0      5\n",
              "1      4\n",
              "2      3\n",
              "3      5\n",
              "4      3\n",
              "      ..\n",
              "263    4\n",
              "264    5\n",
              "265    5\n",
              "266    1\n",
              "267    5\n",
              "Name: อาหารที่ชอบ (ตอบทุกข้อ) [ส้มตำ], Length: 268, dtype: int64"
            ]
          },
          "metadata": {
            "tags": []
          },
          "execution_count": 17
        }
      ]
    },
    {
      "cell_type": "code",
      "metadata": {
        "id": "p4P2SZqjfWjr",
        "colab_type": "code",
        "colab": {
          "base_uri": "https://localhost:8080/",
          "height": 728
        },
        "outputId": "cfe4704a-f6ca-4f00-a658-1d18759f92f1"
      },
      "source": [
        "feature_map = {'เกลียด': 1, 'ไม่ชอบ': 2, 'เฉยๆ': 3, 'ชอบ': 4, 'รักเลย': 5}\n",
        "temp = survey_df.copy()\n",
        "for i in range(1,13):\n",
        "  temp.iloc[:,i] = temp.iloc[:,i].map(feature_map)\n",
        "temp"
      ],
      "execution_count": null,
      "outputs": [
        {
          "output_type": "execute_result",
          "data": {
            "text/html": [
              "<div>\n",
              "<style scoped>\n",
              "    .dataframe tbody tr th:only-of-type {\n",
              "        vertical-align: middle;\n",
              "    }\n",
              "\n",
              "    .dataframe tbody tr th {\n",
              "        vertical-align: top;\n",
              "    }\n",
              "\n",
              "    .dataframe thead th {\n",
              "        text-align: right;\n",
              "    }\n",
              "</style>\n",
              "<table border=\"1\" class=\"dataframe\">\n",
              "  <thead>\n",
              "    <tr style=\"text-align: right;\">\n",
              "      <th></th>\n",
              "      <th>Timestamp</th>\n",
              "      <th>อาหารที่ชอบ (ตอบทุกข้อ) [ส้มตำ]</th>\n",
              "      <th>อาหารที่ชอบ (ตอบทุกข้อ) [กระเพราหมูกรอบ]</th>\n",
              "      <th>อาหารที่ชอบ (ตอบทุกข้อ) [ต้มยำกุ้ง]</th>\n",
              "      <th>อาหารที่ชอบ (ตอบทุกข้อ) [ข้าวมันไก่]</th>\n",
              "      <th>อาหารที่ชอบ (ตอบทุกข้อ) [ก๋วยเตี๋ยว]</th>\n",
              "      <th>อาหารที่ชอบ (ตอบทุกข้อ) [พิซซ่า]</th>\n",
              "      <th>อาหารที่ชอบ (ตอบทุกข้อ) [ไก่ บอนชอน]</th>\n",
              "      <th>อาหารที่ชอบ (ตอบทุกข้อ) [MK สุกี้]</th>\n",
              "      <th>อาหารที่ชอบ (ตอบทุกข้อ) [อาหารทะเล]</th>\n",
              "      <th>อาหารที่ชอบ (ตอบทุกข้อ) [สลัด]</th>\n",
              "      <th>อาหารที่ชอบ (ตอบทุกข้อ) [ต้มเลือดหมู]</th>\n",
              "      <th>อาหารที่ชอบ (ตอบทุกข้อ) [ทุเรียน]</th>\n",
              "      <th>อายุ</th>\n",
              "      <th>น้ำหนักตัว (กิโลกรัม)</th>\n",
              "      <th>เพศ</th>\n",
              "    </tr>\n",
              "  </thead>\n",
              "  <tbody>\n",
              "    <tr>\n",
              "      <th>0</th>\n",
              "      <td>8/20/2020 18:51:29</td>\n",
              "      <td>5</td>\n",
              "      <td>3</td>\n",
              "      <td>5</td>\n",
              "      <td>3</td>\n",
              "      <td>4</td>\n",
              "      <td>3</td>\n",
              "      <td>3</td>\n",
              "      <td>5</td>\n",
              "      <td>5</td>\n",
              "      <td>3</td>\n",
              "      <td>5</td>\n",
              "      <td>3</td>\n",
              "      <td>30</td>\n",
              "      <td>52.45</td>\n",
              "      <td></td>\n",
              "    </tr>\n",
              "    <tr>\n",
              "      <th>1</th>\n",
              "      <td>8/20/2020 18:53:38</td>\n",
              "      <td>4</td>\n",
              "      <td>3</td>\n",
              "      <td>3</td>\n",
              "      <td>3</td>\n",
              "      <td>4</td>\n",
              "      <td>3</td>\n",
              "      <td>4</td>\n",
              "      <td>3</td>\n",
              "      <td>3</td>\n",
              "      <td>3</td>\n",
              "      <td>4</td>\n",
              "      <td>4</td>\n",
              "      <td>19</td>\n",
              "      <td>52.00</td>\n",
              "      <td></td>\n",
              "    </tr>\n",
              "    <tr>\n",
              "      <th>2</th>\n",
              "      <td>8/20/2020 18:57:27</td>\n",
              "      <td>3</td>\n",
              "      <td>4</td>\n",
              "      <td>1</td>\n",
              "      <td>3</td>\n",
              "      <td>3</td>\n",
              "      <td>4</td>\n",
              "      <td>4</td>\n",
              "      <td>3</td>\n",
              "      <td>1</td>\n",
              "      <td>3</td>\n",
              "      <td>3</td>\n",
              "      <td>4</td>\n",
              "      <td>34</td>\n",
              "      <td>70.00</td>\n",
              "      <td></td>\n",
              "    </tr>\n",
              "    <tr>\n",
              "      <th>3</th>\n",
              "      <td>8/20/2020 18:59:21</td>\n",
              "      <td>5</td>\n",
              "      <td>4</td>\n",
              "      <td>1</td>\n",
              "      <td>3</td>\n",
              "      <td>4</td>\n",
              "      <td>4</td>\n",
              "      <td>4</td>\n",
              "      <td>4</td>\n",
              "      <td>1</td>\n",
              "      <td>3</td>\n",
              "      <td>1</td>\n",
              "      <td>3</td>\n",
              "      <td>26</td>\n",
              "      <td>60.00</td>\n",
              "      <td></td>\n",
              "    </tr>\n",
              "    <tr>\n",
              "      <th>4</th>\n",
              "      <td>8/20/2020 19:10:17</td>\n",
              "      <td>3</td>\n",
              "      <td>4</td>\n",
              "      <td>3</td>\n",
              "      <td>3</td>\n",
              "      <td>3</td>\n",
              "      <td>3</td>\n",
              "      <td>4</td>\n",
              "      <td>3</td>\n",
              "      <td>3</td>\n",
              "      <td>3</td>\n",
              "      <td>2</td>\n",
              "      <td>4</td>\n",
              "      <td>34</td>\n",
              "      <td>63.00</td>\n",
              "      <td></td>\n",
              "    </tr>\n",
              "    <tr>\n",
              "      <th>...</th>\n",
              "      <td>...</td>\n",
              "      <td>...</td>\n",
              "      <td>...</td>\n",
              "      <td>...</td>\n",
              "      <td>...</td>\n",
              "      <td>...</td>\n",
              "      <td>...</td>\n",
              "      <td>...</td>\n",
              "      <td>...</td>\n",
              "      <td>...</td>\n",
              "      <td>...</td>\n",
              "      <td>...</td>\n",
              "      <td>...</td>\n",
              "      <td>...</td>\n",
              "      <td>...</td>\n",
              "      <td>...</td>\n",
              "    </tr>\n",
              "    <tr>\n",
              "      <th>263</th>\n",
              "      <td>8/22/2020 14:07:18</td>\n",
              "      <td>4</td>\n",
              "      <td>4</td>\n",
              "      <td>3</td>\n",
              "      <td>3</td>\n",
              "      <td>3</td>\n",
              "      <td>3</td>\n",
              "      <td>3</td>\n",
              "      <td>4</td>\n",
              "      <td>5</td>\n",
              "      <td>3</td>\n",
              "      <td>3</td>\n",
              "      <td>1</td>\n",
              "      <td>30</td>\n",
              "      <td>88.00</td>\n",
              "      <td>ชาย</td>\n",
              "    </tr>\n",
              "    <tr>\n",
              "      <th>264</th>\n",
              "      <td>8/22/2020 18:16:05</td>\n",
              "      <td>5</td>\n",
              "      <td>4</td>\n",
              "      <td>4</td>\n",
              "      <td>4</td>\n",
              "      <td>4</td>\n",
              "      <td>1</td>\n",
              "      <td>1</td>\n",
              "      <td>4</td>\n",
              "      <td>3</td>\n",
              "      <td>5</td>\n",
              "      <td>4</td>\n",
              "      <td>4</td>\n",
              "      <td>24</td>\n",
              "      <td>56.00</td>\n",
              "      <td>ชาย</td>\n",
              "    </tr>\n",
              "    <tr>\n",
              "      <th>265</th>\n",
              "      <td>8/22/2020 22:53:24</td>\n",
              "      <td>5</td>\n",
              "      <td>4</td>\n",
              "      <td>4</td>\n",
              "      <td>4</td>\n",
              "      <td>4</td>\n",
              "      <td>1</td>\n",
              "      <td>1</td>\n",
              "      <td>4</td>\n",
              "      <td>3</td>\n",
              "      <td>5</td>\n",
              "      <td>4</td>\n",
              "      <td>4</td>\n",
              "      <td>24</td>\n",
              "      <td>56.00</td>\n",
              "      <td>ชาย</td>\n",
              "    </tr>\n",
              "    <tr>\n",
              "      <th>266</th>\n",
              "      <td>8/25/2020 15:41:22</td>\n",
              "      <td>1</td>\n",
              "      <td>3</td>\n",
              "      <td>4</td>\n",
              "      <td>3</td>\n",
              "      <td>5</td>\n",
              "      <td>3</td>\n",
              "      <td>5</td>\n",
              "      <td>5</td>\n",
              "      <td>5</td>\n",
              "      <td>1</td>\n",
              "      <td>4</td>\n",
              "      <td>4</td>\n",
              "      <td>28</td>\n",
              "      <td>54.00</td>\n",
              "      <td>หญิง</td>\n",
              "    </tr>\n",
              "    <tr>\n",
              "      <th>267</th>\n",
              "      <td>8/25/2020 18:23:41</td>\n",
              "      <td>5</td>\n",
              "      <td>3</td>\n",
              "      <td>3</td>\n",
              "      <td>4</td>\n",
              "      <td>3</td>\n",
              "      <td>2</td>\n",
              "      <td>3</td>\n",
              "      <td>4</td>\n",
              "      <td>5</td>\n",
              "      <td>4</td>\n",
              "      <td>1</td>\n",
              "      <td>1</td>\n",
              "      <td>23</td>\n",
              "      <td>60.00</td>\n",
              "      <td>ชาย</td>\n",
              "    </tr>\n",
              "  </tbody>\n",
              "</table>\n",
              "<p>268 rows × 16 columns</p>\n",
              "</div>"
            ],
            "text/plain": [
              "              Timestamp  ...   เพศ\n",
              "0    8/20/2020 18:51:29  ...      \n",
              "1    8/20/2020 18:53:38  ...      \n",
              "2    8/20/2020 18:57:27  ...      \n",
              "3    8/20/2020 18:59:21  ...      \n",
              "4    8/20/2020 19:10:17  ...      \n",
              "..                  ...  ...   ...\n",
              "263  8/22/2020 14:07:18  ...   ชาย\n",
              "264  8/22/2020 18:16:05  ...   ชาย\n",
              "265  8/22/2020 22:53:24  ...   ชาย\n",
              "266  8/25/2020 15:41:22  ...  หญิง\n",
              "267  8/25/2020 18:23:41  ...   ชาย\n",
              "\n",
              "[268 rows x 16 columns]"
            ]
          },
          "metadata": {
            "tags": []
          },
          "execution_count": 18
        }
      ]
    },
    {
      "cell_type": "code",
      "metadata": {
        "id": "Ab7aOgFhqfkd",
        "colab_type": "code",
        "colab": {
          "base_uri": "https://localhost:8080/",
          "height": 728
        },
        "outputId": "1510f75c-42e5-4e94-babc-ba0bed89b471"
      },
      "source": [
        "gender_map = {'ชาย': 'male', 'หญิง': 'female'}\n",
        "temp['เพศ'] = temp['เพศ'].map(gender_map)\n",
        "temp"
      ],
      "execution_count": null,
      "outputs": [
        {
          "output_type": "execute_result",
          "data": {
            "text/html": [
              "<div>\n",
              "<style scoped>\n",
              "    .dataframe tbody tr th:only-of-type {\n",
              "        vertical-align: middle;\n",
              "    }\n",
              "\n",
              "    .dataframe tbody tr th {\n",
              "        vertical-align: top;\n",
              "    }\n",
              "\n",
              "    .dataframe thead th {\n",
              "        text-align: right;\n",
              "    }\n",
              "</style>\n",
              "<table border=\"1\" class=\"dataframe\">\n",
              "  <thead>\n",
              "    <tr style=\"text-align: right;\">\n",
              "      <th></th>\n",
              "      <th>Timestamp</th>\n",
              "      <th>อาหารที่ชอบ (ตอบทุกข้อ) [ส้มตำ]</th>\n",
              "      <th>อาหารที่ชอบ (ตอบทุกข้อ) [กระเพราหมูกรอบ]</th>\n",
              "      <th>อาหารที่ชอบ (ตอบทุกข้อ) [ต้มยำกุ้ง]</th>\n",
              "      <th>อาหารที่ชอบ (ตอบทุกข้อ) [ข้าวมันไก่]</th>\n",
              "      <th>อาหารที่ชอบ (ตอบทุกข้อ) [ก๋วยเตี๋ยว]</th>\n",
              "      <th>อาหารที่ชอบ (ตอบทุกข้อ) [พิซซ่า]</th>\n",
              "      <th>อาหารที่ชอบ (ตอบทุกข้อ) [ไก่ บอนชอน]</th>\n",
              "      <th>อาหารที่ชอบ (ตอบทุกข้อ) [MK สุกี้]</th>\n",
              "      <th>อาหารที่ชอบ (ตอบทุกข้อ) [อาหารทะเล]</th>\n",
              "      <th>อาหารที่ชอบ (ตอบทุกข้อ) [สลัด]</th>\n",
              "      <th>อาหารที่ชอบ (ตอบทุกข้อ) [ต้มเลือดหมู]</th>\n",
              "      <th>อาหารที่ชอบ (ตอบทุกข้อ) [ทุเรียน]</th>\n",
              "      <th>อายุ</th>\n",
              "      <th>น้ำหนักตัว (กิโลกรัม)</th>\n",
              "      <th>เพศ</th>\n",
              "    </tr>\n",
              "  </thead>\n",
              "  <tbody>\n",
              "    <tr>\n",
              "      <th>0</th>\n",
              "      <td>8/20/2020 18:51:29</td>\n",
              "      <td>5</td>\n",
              "      <td>3</td>\n",
              "      <td>5</td>\n",
              "      <td>3</td>\n",
              "      <td>4</td>\n",
              "      <td>3</td>\n",
              "      <td>3</td>\n",
              "      <td>5</td>\n",
              "      <td>5</td>\n",
              "      <td>3</td>\n",
              "      <td>5</td>\n",
              "      <td>3</td>\n",
              "      <td>30</td>\n",
              "      <td>52.45</td>\n",
              "      <td>NaN</td>\n",
              "    </tr>\n",
              "    <tr>\n",
              "      <th>1</th>\n",
              "      <td>8/20/2020 18:53:38</td>\n",
              "      <td>4</td>\n",
              "      <td>3</td>\n",
              "      <td>3</td>\n",
              "      <td>3</td>\n",
              "      <td>4</td>\n",
              "      <td>3</td>\n",
              "      <td>4</td>\n",
              "      <td>3</td>\n",
              "      <td>3</td>\n",
              "      <td>3</td>\n",
              "      <td>4</td>\n",
              "      <td>4</td>\n",
              "      <td>19</td>\n",
              "      <td>52.00</td>\n",
              "      <td>NaN</td>\n",
              "    </tr>\n",
              "    <tr>\n",
              "      <th>2</th>\n",
              "      <td>8/20/2020 18:57:27</td>\n",
              "      <td>3</td>\n",
              "      <td>4</td>\n",
              "      <td>1</td>\n",
              "      <td>3</td>\n",
              "      <td>3</td>\n",
              "      <td>4</td>\n",
              "      <td>4</td>\n",
              "      <td>3</td>\n",
              "      <td>1</td>\n",
              "      <td>3</td>\n",
              "      <td>3</td>\n",
              "      <td>4</td>\n",
              "      <td>34</td>\n",
              "      <td>70.00</td>\n",
              "      <td>NaN</td>\n",
              "    </tr>\n",
              "    <tr>\n",
              "      <th>3</th>\n",
              "      <td>8/20/2020 18:59:21</td>\n",
              "      <td>5</td>\n",
              "      <td>4</td>\n",
              "      <td>1</td>\n",
              "      <td>3</td>\n",
              "      <td>4</td>\n",
              "      <td>4</td>\n",
              "      <td>4</td>\n",
              "      <td>4</td>\n",
              "      <td>1</td>\n",
              "      <td>3</td>\n",
              "      <td>1</td>\n",
              "      <td>3</td>\n",
              "      <td>26</td>\n",
              "      <td>60.00</td>\n",
              "      <td>NaN</td>\n",
              "    </tr>\n",
              "    <tr>\n",
              "      <th>4</th>\n",
              "      <td>8/20/2020 19:10:17</td>\n",
              "      <td>3</td>\n",
              "      <td>4</td>\n",
              "      <td>3</td>\n",
              "      <td>3</td>\n",
              "      <td>3</td>\n",
              "      <td>3</td>\n",
              "      <td>4</td>\n",
              "      <td>3</td>\n",
              "      <td>3</td>\n",
              "      <td>3</td>\n",
              "      <td>2</td>\n",
              "      <td>4</td>\n",
              "      <td>34</td>\n",
              "      <td>63.00</td>\n",
              "      <td>NaN</td>\n",
              "    </tr>\n",
              "    <tr>\n",
              "      <th>...</th>\n",
              "      <td>...</td>\n",
              "      <td>...</td>\n",
              "      <td>...</td>\n",
              "      <td>...</td>\n",
              "      <td>...</td>\n",
              "      <td>...</td>\n",
              "      <td>...</td>\n",
              "      <td>...</td>\n",
              "      <td>...</td>\n",
              "      <td>...</td>\n",
              "      <td>...</td>\n",
              "      <td>...</td>\n",
              "      <td>...</td>\n",
              "      <td>...</td>\n",
              "      <td>...</td>\n",
              "      <td>...</td>\n",
              "    </tr>\n",
              "    <tr>\n",
              "      <th>263</th>\n",
              "      <td>8/22/2020 14:07:18</td>\n",
              "      <td>4</td>\n",
              "      <td>4</td>\n",
              "      <td>3</td>\n",
              "      <td>3</td>\n",
              "      <td>3</td>\n",
              "      <td>3</td>\n",
              "      <td>3</td>\n",
              "      <td>4</td>\n",
              "      <td>5</td>\n",
              "      <td>3</td>\n",
              "      <td>3</td>\n",
              "      <td>1</td>\n",
              "      <td>30</td>\n",
              "      <td>88.00</td>\n",
              "      <td>male</td>\n",
              "    </tr>\n",
              "    <tr>\n",
              "      <th>264</th>\n",
              "      <td>8/22/2020 18:16:05</td>\n",
              "      <td>5</td>\n",
              "      <td>4</td>\n",
              "      <td>4</td>\n",
              "      <td>4</td>\n",
              "      <td>4</td>\n",
              "      <td>1</td>\n",
              "      <td>1</td>\n",
              "      <td>4</td>\n",
              "      <td>3</td>\n",
              "      <td>5</td>\n",
              "      <td>4</td>\n",
              "      <td>4</td>\n",
              "      <td>24</td>\n",
              "      <td>56.00</td>\n",
              "      <td>male</td>\n",
              "    </tr>\n",
              "    <tr>\n",
              "      <th>265</th>\n",
              "      <td>8/22/2020 22:53:24</td>\n",
              "      <td>5</td>\n",
              "      <td>4</td>\n",
              "      <td>4</td>\n",
              "      <td>4</td>\n",
              "      <td>4</td>\n",
              "      <td>1</td>\n",
              "      <td>1</td>\n",
              "      <td>4</td>\n",
              "      <td>3</td>\n",
              "      <td>5</td>\n",
              "      <td>4</td>\n",
              "      <td>4</td>\n",
              "      <td>24</td>\n",
              "      <td>56.00</td>\n",
              "      <td>male</td>\n",
              "    </tr>\n",
              "    <tr>\n",
              "      <th>266</th>\n",
              "      <td>8/25/2020 15:41:22</td>\n",
              "      <td>1</td>\n",
              "      <td>3</td>\n",
              "      <td>4</td>\n",
              "      <td>3</td>\n",
              "      <td>5</td>\n",
              "      <td>3</td>\n",
              "      <td>5</td>\n",
              "      <td>5</td>\n",
              "      <td>5</td>\n",
              "      <td>1</td>\n",
              "      <td>4</td>\n",
              "      <td>4</td>\n",
              "      <td>28</td>\n",
              "      <td>54.00</td>\n",
              "      <td>female</td>\n",
              "    </tr>\n",
              "    <tr>\n",
              "      <th>267</th>\n",
              "      <td>8/25/2020 18:23:41</td>\n",
              "      <td>5</td>\n",
              "      <td>3</td>\n",
              "      <td>3</td>\n",
              "      <td>4</td>\n",
              "      <td>3</td>\n",
              "      <td>2</td>\n",
              "      <td>3</td>\n",
              "      <td>4</td>\n",
              "      <td>5</td>\n",
              "      <td>4</td>\n",
              "      <td>1</td>\n",
              "      <td>1</td>\n",
              "      <td>23</td>\n",
              "      <td>60.00</td>\n",
              "      <td>male</td>\n",
              "    </tr>\n",
              "  </tbody>\n",
              "</table>\n",
              "<p>268 rows × 16 columns</p>\n",
              "</div>"
            ],
            "text/plain": [
              "              Timestamp  ...     เพศ\n",
              "0    8/20/2020 18:51:29  ...     NaN\n",
              "1    8/20/2020 18:53:38  ...     NaN\n",
              "2    8/20/2020 18:57:27  ...     NaN\n",
              "3    8/20/2020 18:59:21  ...     NaN\n",
              "4    8/20/2020 19:10:17  ...     NaN\n",
              "..                  ...  ...     ...\n",
              "263  8/22/2020 14:07:18  ...    male\n",
              "264  8/22/2020 18:16:05  ...    male\n",
              "265  8/22/2020 22:53:24  ...    male\n",
              "266  8/25/2020 15:41:22  ...  female\n",
              "267  8/25/2020 18:23:41  ...    male\n",
              "\n",
              "[268 rows x 16 columns]"
            ]
          },
          "metadata": {
            "tags": []
          },
          "execution_count": 19
        }
      ]
    },
    {
      "cell_type": "code",
      "metadata": {
        "id": "KRzvmer8y90I",
        "colab_type": "code",
        "colab": {}
      },
      "source": [
        "def clean_data(df):\n",
        "  clean_df = df.copy()\n",
        "  clean_df = clean_df.drop('Timestamp', axis=1)\n",
        "\n",
        "  # convert column to english\n",
        "  column_names = clean_df.columns.values\n",
        "  eng_column_names = rename_column(column_names)\n",
        "  clean_df.columns = eng_column_names\n",
        "\n",
        "  feature_map = {'เกลียด': 1, 'ไม่ชอบ': 2, 'เฉยๆ': 3, 'ชอบ': 4, 'รักเลย': 5}\n",
        "  for i in range(12):\n",
        "    clean_df.iloc[:,i] = clean_df.iloc[:,i].map(feature_map)\n",
        "\n",
        "  gender_map = {'ชาย': 'male', 'หญิง': 'female'}\n",
        "  clean_df['sex'] = clean_df['sex'].map(gender_map)\n",
        "\n",
        "  clean_df = clean_df[(15 < clean_df['age']) & (clean_df['age'] < 70)]\n",
        "\n",
        "  clean_df['sex'][(clean_df['sex'].isnull()) & (clean_df['Body weight (kg)'] < 60)] = 'female'\n",
        "  clean_df['sex'][(clean_df['sex'].isnull()) & (clean_df['Body weight (kg)'] >= 60)] = 'male'\n",
        "\n",
        "  return clean_df"
      ],
      "execution_count": null,
      "outputs": []
    },
    {
      "cell_type": "code",
      "metadata": {
        "id": "e9xsR_Eay_9O",
        "colab_type": "code",
        "colab": {
          "base_uri": "https://localhost:8080/",
          "height": 105
        },
        "outputId": "6ecf6372-f0db-417c-c369-abe54a94a647"
      },
      "source": [
        "clean_df = clean_data(survey_df)"
      ],
      "execution_count": null,
      "outputs": [
        {
          "output_type": "stream",
          "text": [
            "/usr/local/lib/python3.6/dist-packages/ipykernel_launcher.py:20: SettingWithCopyWarning: \n",
            "A value is trying to be set on a copy of a slice from a DataFrame\n",
            "\n",
            "See the caveats in the documentation: https://pandas.pydata.org/pandas-docs/stable/user_guide/indexing.html#returning-a-view-versus-a-copy\n"
          ],
          "name": "stderr"
        }
      ]
    },
    {
      "cell_type": "code",
      "metadata": {
        "id": "LBbQMZVclCBM",
        "colab_type": "code",
        "colab": {
          "base_uri": "https://localhost:8080/",
          "height": 68
        },
        "outputId": "ffc35117-3050-4ce9-f31b-4c207634d3b9"
      },
      "source": [
        "clean_df['sex'].value_counts()"
      ],
      "execution_count": null,
      "outputs": [
        {
          "output_type": "execute_result",
          "data": {
            "text/plain": [
              "male      166\n",
              "female     98\n",
              "Name: sex, dtype: int64"
            ]
          },
          "metadata": {
            "tags": []
          },
          "execution_count": 22
        }
      ]
    },
    {
      "cell_type": "code",
      "metadata": {
        "id": "Oc1NK6nfWc8b",
        "colab_type": "code",
        "colab": {
          "base_uri": "https://localhost:8080/",
          "height": 258
        },
        "outputId": "7ad6a2cf-66a2-4cc3-a99c-9c8276208cfc"
      },
      "source": [
        "clean_df.head()"
      ],
      "execution_count": null,
      "outputs": [
        {
          "output_type": "execute_result",
          "data": {
            "text/html": [
              "<div>\n",
              "<style scoped>\n",
              "    .dataframe tbody tr th:only-of-type {\n",
              "        vertical-align: middle;\n",
              "    }\n",
              "\n",
              "    .dataframe tbody tr th {\n",
              "        vertical-align: top;\n",
              "    }\n",
              "\n",
              "    .dataframe thead th {\n",
              "        text-align: right;\n",
              "    }\n",
              "</style>\n",
              "<table border=\"1\" class=\"dataframe\">\n",
              "  <thead>\n",
              "    <tr style=\"text-align: right;\">\n",
              "      <th></th>\n",
              "      <th>green papaya salad</th>\n",
              "      <th>Crispy Pork Basil</th>\n",
              "      <th>Tom Yum Kung</th>\n",
              "      <th>Chicken rice</th>\n",
              "      <th>noodle</th>\n",
              "      <th>Pizza</th>\n",
              "      <th>Bonchon Chicken</th>\n",
              "      <th>MK Suki</th>\n",
              "      <th>Seafood</th>\n",
              "      <th>salad</th>\n",
              "      <th>Boiled pork blood</th>\n",
              "      <th>Durian</th>\n",
              "      <th>age</th>\n",
              "      <th>Body weight (kg)</th>\n",
              "      <th>sex</th>\n",
              "    </tr>\n",
              "  </thead>\n",
              "  <tbody>\n",
              "    <tr>\n",
              "      <th>0</th>\n",
              "      <td>5</td>\n",
              "      <td>3</td>\n",
              "      <td>5</td>\n",
              "      <td>3</td>\n",
              "      <td>4</td>\n",
              "      <td>3</td>\n",
              "      <td>3</td>\n",
              "      <td>5</td>\n",
              "      <td>5</td>\n",
              "      <td>3</td>\n",
              "      <td>5</td>\n",
              "      <td>3</td>\n",
              "      <td>30</td>\n",
              "      <td>52.45</td>\n",
              "      <td>female</td>\n",
              "    </tr>\n",
              "    <tr>\n",
              "      <th>1</th>\n",
              "      <td>4</td>\n",
              "      <td>3</td>\n",
              "      <td>3</td>\n",
              "      <td>3</td>\n",
              "      <td>4</td>\n",
              "      <td>3</td>\n",
              "      <td>4</td>\n",
              "      <td>3</td>\n",
              "      <td>3</td>\n",
              "      <td>3</td>\n",
              "      <td>4</td>\n",
              "      <td>4</td>\n",
              "      <td>19</td>\n",
              "      <td>52.00</td>\n",
              "      <td>female</td>\n",
              "    </tr>\n",
              "    <tr>\n",
              "      <th>2</th>\n",
              "      <td>3</td>\n",
              "      <td>4</td>\n",
              "      <td>1</td>\n",
              "      <td>3</td>\n",
              "      <td>3</td>\n",
              "      <td>4</td>\n",
              "      <td>4</td>\n",
              "      <td>3</td>\n",
              "      <td>1</td>\n",
              "      <td>3</td>\n",
              "      <td>3</td>\n",
              "      <td>4</td>\n",
              "      <td>34</td>\n",
              "      <td>70.00</td>\n",
              "      <td>male</td>\n",
              "    </tr>\n",
              "    <tr>\n",
              "      <th>3</th>\n",
              "      <td>5</td>\n",
              "      <td>4</td>\n",
              "      <td>1</td>\n",
              "      <td>3</td>\n",
              "      <td>4</td>\n",
              "      <td>4</td>\n",
              "      <td>4</td>\n",
              "      <td>4</td>\n",
              "      <td>1</td>\n",
              "      <td>3</td>\n",
              "      <td>1</td>\n",
              "      <td>3</td>\n",
              "      <td>26</td>\n",
              "      <td>60.00</td>\n",
              "      <td>male</td>\n",
              "    </tr>\n",
              "    <tr>\n",
              "      <th>4</th>\n",
              "      <td>3</td>\n",
              "      <td>4</td>\n",
              "      <td>3</td>\n",
              "      <td>3</td>\n",
              "      <td>3</td>\n",
              "      <td>3</td>\n",
              "      <td>4</td>\n",
              "      <td>3</td>\n",
              "      <td>3</td>\n",
              "      <td>3</td>\n",
              "      <td>2</td>\n",
              "      <td>4</td>\n",
              "      <td>34</td>\n",
              "      <td>63.00</td>\n",
              "      <td>male</td>\n",
              "    </tr>\n",
              "  </tbody>\n",
              "</table>\n",
              "</div>"
            ],
            "text/plain": [
              "   green papaya salad  Crispy Pork Basil  ...  Body weight (kg)     sex\n",
              "0                   5                  3  ...             52.45  female\n",
              "1                   4                  3  ...             52.00  female\n",
              "2                   3                  4  ...             70.00    male\n",
              "3                   5                  4  ...             60.00    male\n",
              "4                   3                  4  ...             63.00    male\n",
              "\n",
              "[5 rows x 15 columns]"
            ]
          },
          "metadata": {
            "tags": []
          },
          "execution_count": 23
        }
      ]
    },
    {
      "cell_type": "code",
      "metadata": {
        "id": "kwyLDSldWpIK",
        "colab_type": "code",
        "colab": {
          "base_uri": "https://localhost:8080/",
          "height": 289
        },
        "outputId": "57c22efa-33f0-4223-c1ae-188836c8738e"
      },
      "source": [
        "clean_df.isna().sum()"
      ],
      "execution_count": null,
      "outputs": [
        {
          "output_type": "execute_result",
          "data": {
            "text/plain": [
              "green papaya salad    0\n",
              "Crispy Pork Basil     0\n",
              "Tom Yum Kung          0\n",
              "Chicken rice          0\n",
              "noodle                0\n",
              "Pizza                 0\n",
              "Bonchon Chicken       0\n",
              "MK Suki               0\n",
              "Seafood               0\n",
              "salad                 0\n",
              "Boiled pork blood     0\n",
              "Durian                0\n",
              "age                   0\n",
              "Body weight (kg)      0\n",
              "sex                   0\n",
              "dtype: int64"
            ]
          },
          "metadata": {
            "tags": []
          },
          "execution_count": 24
        }
      ]
    },
    {
      "cell_type": "markdown",
      "metadata": {
        "id": "nea8gzPbz42a",
        "colab_type": "text"
      },
      "source": [
        "# 3. Train & Test split\n",
        "เป็นการแบ่งข้อมูลออกเป็น 2 sets เพื่อใช้ในการ training และ evaluating"
      ]
    },
    {
      "cell_type": "code",
      "metadata": {
        "id": "CEsgxUehz9tT",
        "colab_type": "code",
        "colab": {}
      },
      "source": [
        "from sklearn.model_selection import train_test_split\n",
        "\n",
        "def split_train_test(df):\n",
        "  train_df, test_df = train_test_split(df, test_size=0.2, random_state=2020, shuffle=True)\n",
        "  return train_df, test_df"
      ],
      "execution_count": null,
      "outputs": []
    },
    {
      "cell_type": "code",
      "metadata": {
        "id": "3bazOfqX0lrp",
        "colab_type": "code",
        "colab": {}
      },
      "source": [
        "train_df, test_df = split_train_test(clean_df)"
      ],
      "execution_count": null,
      "outputs": []
    },
    {
      "cell_type": "code",
      "metadata": {
        "id": "rJlmXtBu0zl6",
        "colab_type": "code",
        "colab": {
          "base_uri": "https://localhost:8080/",
          "height": 34
        },
        "outputId": "9621ceee-2ebe-4fdc-8f2f-5352745a665f"
      },
      "source": [
        "len(train_df)"
      ],
      "execution_count": null,
      "outputs": [
        {
          "output_type": "execute_result",
          "data": {
            "text/plain": [
              "211"
            ]
          },
          "metadata": {
            "tags": []
          },
          "execution_count": 27
        }
      ]
    },
    {
      "cell_type": "code",
      "metadata": {
        "id": "kcrChRal01rG",
        "colab_type": "code",
        "colab": {
          "base_uri": "https://localhost:8080/",
          "height": 34
        },
        "outputId": "7166b08a-a8a4-4d3e-9ae7-448f84fcd2e7"
      },
      "source": [
        "len(test_df)"
      ],
      "execution_count": null,
      "outputs": [
        {
          "output_type": "execute_result",
          "data": {
            "text/plain": [
              "53"
            ]
          },
          "metadata": {
            "tags": []
          },
          "execution_count": 28
        }
      ]
    },
    {
      "cell_type": "markdown",
      "metadata": {
        "id": "Oz16kPtFOsv3",
        "colab_type": "text"
      },
      "source": [
        "# 4. Extract Feature\n",
        "แยกข้อมูล feature และ label ออกมากจาก traing set และ test set \n",
        "\n",
        "เพื่อให้โมเดลเรียนรู้ได้ และนำมาวัดผลประสิทธิภาพของโมเดลได้"
      ]
    },
    {
      "cell_type": "code",
      "metadata": {
        "id": "Kba-3L3-YH2v",
        "colab_type": "code",
        "colab": {
          "base_uri": "https://localhost:8080/",
          "height": 473
        },
        "outputId": "88ced91c-03cd-4931-8759-67784f7db2ad"
      },
      "source": [
        "train_df"
      ],
      "execution_count": null,
      "outputs": [
        {
          "output_type": "execute_result",
          "data": {
            "text/html": [
              "<div>\n",
              "<style scoped>\n",
              "    .dataframe tbody tr th:only-of-type {\n",
              "        vertical-align: middle;\n",
              "    }\n",
              "\n",
              "    .dataframe tbody tr th {\n",
              "        vertical-align: top;\n",
              "    }\n",
              "\n",
              "    .dataframe thead th {\n",
              "        text-align: right;\n",
              "    }\n",
              "</style>\n",
              "<table border=\"1\" class=\"dataframe\">\n",
              "  <thead>\n",
              "    <tr style=\"text-align: right;\">\n",
              "      <th></th>\n",
              "      <th>green papaya salad</th>\n",
              "      <th>Crispy Pork Basil</th>\n",
              "      <th>Tom Yum Kung</th>\n",
              "      <th>Chicken rice</th>\n",
              "      <th>noodle</th>\n",
              "      <th>Pizza</th>\n",
              "      <th>Bonchon Chicken</th>\n",
              "      <th>MK Suki</th>\n",
              "      <th>Seafood</th>\n",
              "      <th>salad</th>\n",
              "      <th>Boiled pork blood</th>\n",
              "      <th>Durian</th>\n",
              "      <th>age</th>\n",
              "      <th>Body weight (kg)</th>\n",
              "      <th>sex</th>\n",
              "    </tr>\n",
              "  </thead>\n",
              "  <tbody>\n",
              "    <tr>\n",
              "      <th>218</th>\n",
              "      <td>4</td>\n",
              "      <td>2</td>\n",
              "      <td>2</td>\n",
              "      <td>4</td>\n",
              "      <td>3</td>\n",
              "      <td>5</td>\n",
              "      <td>4</td>\n",
              "      <td>4</td>\n",
              "      <td>4</td>\n",
              "      <td>3</td>\n",
              "      <td>4</td>\n",
              "      <td>1</td>\n",
              "      <td>16</td>\n",
              "      <td>47.0</td>\n",
              "      <td>male</td>\n",
              "    </tr>\n",
              "    <tr>\n",
              "      <th>194</th>\n",
              "      <td>4</td>\n",
              "      <td>4</td>\n",
              "      <td>4</td>\n",
              "      <td>3</td>\n",
              "      <td>3</td>\n",
              "      <td>3</td>\n",
              "      <td>4</td>\n",
              "      <td>4</td>\n",
              "      <td>4</td>\n",
              "      <td>4</td>\n",
              "      <td>3</td>\n",
              "      <td>4</td>\n",
              "      <td>35</td>\n",
              "      <td>70.0</td>\n",
              "      <td>male</td>\n",
              "    </tr>\n",
              "    <tr>\n",
              "      <th>2</th>\n",
              "      <td>3</td>\n",
              "      <td>4</td>\n",
              "      <td>1</td>\n",
              "      <td>3</td>\n",
              "      <td>3</td>\n",
              "      <td>4</td>\n",
              "      <td>4</td>\n",
              "      <td>3</td>\n",
              "      <td>1</td>\n",
              "      <td>3</td>\n",
              "      <td>3</td>\n",
              "      <td>4</td>\n",
              "      <td>34</td>\n",
              "      <td>70.0</td>\n",
              "      <td>male</td>\n",
              "    </tr>\n",
              "    <tr>\n",
              "      <th>57</th>\n",
              "      <td>3</td>\n",
              "      <td>5</td>\n",
              "      <td>3</td>\n",
              "      <td>3</td>\n",
              "      <td>3</td>\n",
              "      <td>3</td>\n",
              "      <td>2</td>\n",
              "      <td>4</td>\n",
              "      <td>4</td>\n",
              "      <td>3</td>\n",
              "      <td>3</td>\n",
              "      <td>4</td>\n",
              "      <td>34</td>\n",
              "      <td>58.0</td>\n",
              "      <td>female</td>\n",
              "    </tr>\n",
              "    <tr>\n",
              "      <th>212</th>\n",
              "      <td>4</td>\n",
              "      <td>2</td>\n",
              "      <td>2</td>\n",
              "      <td>3</td>\n",
              "      <td>3</td>\n",
              "      <td>3</td>\n",
              "      <td>5</td>\n",
              "      <td>4</td>\n",
              "      <td>5</td>\n",
              "      <td>3</td>\n",
              "      <td>4</td>\n",
              "      <td>3</td>\n",
              "      <td>20</td>\n",
              "      <td>60.0</td>\n",
              "      <td>female</td>\n",
              "    </tr>\n",
              "    <tr>\n",
              "      <th>...</th>\n",
              "      <td>...</td>\n",
              "      <td>...</td>\n",
              "      <td>...</td>\n",
              "      <td>...</td>\n",
              "      <td>...</td>\n",
              "      <td>...</td>\n",
              "      <td>...</td>\n",
              "      <td>...</td>\n",
              "      <td>...</td>\n",
              "      <td>...</td>\n",
              "      <td>...</td>\n",
              "      <td>...</td>\n",
              "      <td>...</td>\n",
              "      <td>...</td>\n",
              "      <td>...</td>\n",
              "    </tr>\n",
              "    <tr>\n",
              "      <th>132</th>\n",
              "      <td>4</td>\n",
              "      <td>4</td>\n",
              "      <td>3</td>\n",
              "      <td>4</td>\n",
              "      <td>4</td>\n",
              "      <td>2</td>\n",
              "      <td>1</td>\n",
              "      <td>2</td>\n",
              "      <td>3</td>\n",
              "      <td>3</td>\n",
              "      <td>3</td>\n",
              "      <td>1</td>\n",
              "      <td>23</td>\n",
              "      <td>50.0</td>\n",
              "      <td>male</td>\n",
              "    </tr>\n",
              "    <tr>\n",
              "      <th>126</th>\n",
              "      <td>1</td>\n",
              "      <td>2</td>\n",
              "      <td>2</td>\n",
              "      <td>3</td>\n",
              "      <td>4</td>\n",
              "      <td>5</td>\n",
              "      <td>4</td>\n",
              "      <td>5</td>\n",
              "      <td>3</td>\n",
              "      <td>3</td>\n",
              "      <td>3</td>\n",
              "      <td>1</td>\n",
              "      <td>35</td>\n",
              "      <td>63.0</td>\n",
              "      <td>male</td>\n",
              "    </tr>\n",
              "    <tr>\n",
              "      <th>92</th>\n",
              "      <td>4</td>\n",
              "      <td>5</td>\n",
              "      <td>3</td>\n",
              "      <td>4</td>\n",
              "      <td>4</td>\n",
              "      <td>3</td>\n",
              "      <td>4</td>\n",
              "      <td>3</td>\n",
              "      <td>5</td>\n",
              "      <td>2</td>\n",
              "      <td>2</td>\n",
              "      <td>1</td>\n",
              "      <td>28</td>\n",
              "      <td>61.0</td>\n",
              "      <td>male</td>\n",
              "    </tr>\n",
              "    <tr>\n",
              "      <th>197</th>\n",
              "      <td>1</td>\n",
              "      <td>2</td>\n",
              "      <td>2</td>\n",
              "      <td>4</td>\n",
              "      <td>5</td>\n",
              "      <td>5</td>\n",
              "      <td>5</td>\n",
              "      <td>5</td>\n",
              "      <td>3</td>\n",
              "      <td>1</td>\n",
              "      <td>2</td>\n",
              "      <td>1</td>\n",
              "      <td>18</td>\n",
              "      <td>55.0</td>\n",
              "      <td>male</td>\n",
              "    </tr>\n",
              "    <tr>\n",
              "      <th>119</th>\n",
              "      <td>4</td>\n",
              "      <td>4</td>\n",
              "      <td>4</td>\n",
              "      <td>3</td>\n",
              "      <td>3</td>\n",
              "      <td>3</td>\n",
              "      <td>4</td>\n",
              "      <td>3</td>\n",
              "      <td>3</td>\n",
              "      <td>3</td>\n",
              "      <td>3</td>\n",
              "      <td>3</td>\n",
              "      <td>43</td>\n",
              "      <td>51.0</td>\n",
              "      <td>female</td>\n",
              "    </tr>\n",
              "  </tbody>\n",
              "</table>\n",
              "<p>211 rows × 15 columns</p>\n",
              "</div>"
            ],
            "text/plain": [
              "     green papaya salad  Crispy Pork Basil  ...  Body weight (kg)     sex\n",
              "218                   4                  2  ...              47.0    male\n",
              "194                   4                  4  ...              70.0    male\n",
              "2                     3                  4  ...              70.0    male\n",
              "57                    3                  5  ...              58.0  female\n",
              "212                   4                  2  ...              60.0  female\n",
              "..                  ...                ...  ...               ...     ...\n",
              "132                   4                  4  ...              50.0    male\n",
              "126                   1                  2  ...              63.0    male\n",
              "92                    4                  5  ...              61.0    male\n",
              "197                   1                  2  ...              55.0    male\n",
              "119                   4                  4  ...              51.0  female\n",
              "\n",
              "[211 rows x 15 columns]"
            ]
          },
          "metadata": {
            "tags": []
          },
          "execution_count": 29
        }
      ]
    },
    {
      "cell_type": "code",
      "metadata": {
        "id": "uzcpBi-PYeJV",
        "colab_type": "code",
        "colab": {
          "base_uri": "https://localhost:8080/",
          "height": 419
        },
        "outputId": "87cbda60-4f08-43d2-fb20-d21676cfa804"
      },
      "source": [
        "pd.get_dummies(train_df['sex'])"
      ],
      "execution_count": null,
      "outputs": [
        {
          "output_type": "execute_result",
          "data": {
            "text/html": [
              "<div>\n",
              "<style scoped>\n",
              "    .dataframe tbody tr th:only-of-type {\n",
              "        vertical-align: middle;\n",
              "    }\n",
              "\n",
              "    .dataframe tbody tr th {\n",
              "        vertical-align: top;\n",
              "    }\n",
              "\n",
              "    .dataframe thead th {\n",
              "        text-align: right;\n",
              "    }\n",
              "</style>\n",
              "<table border=\"1\" class=\"dataframe\">\n",
              "  <thead>\n",
              "    <tr style=\"text-align: right;\">\n",
              "      <th></th>\n",
              "      <th>female</th>\n",
              "      <th>male</th>\n",
              "    </tr>\n",
              "  </thead>\n",
              "  <tbody>\n",
              "    <tr>\n",
              "      <th>218</th>\n",
              "      <td>0</td>\n",
              "      <td>1</td>\n",
              "    </tr>\n",
              "    <tr>\n",
              "      <th>194</th>\n",
              "      <td>0</td>\n",
              "      <td>1</td>\n",
              "    </tr>\n",
              "    <tr>\n",
              "      <th>2</th>\n",
              "      <td>0</td>\n",
              "      <td>1</td>\n",
              "    </tr>\n",
              "    <tr>\n",
              "      <th>57</th>\n",
              "      <td>1</td>\n",
              "      <td>0</td>\n",
              "    </tr>\n",
              "    <tr>\n",
              "      <th>212</th>\n",
              "      <td>1</td>\n",
              "      <td>0</td>\n",
              "    </tr>\n",
              "    <tr>\n",
              "      <th>...</th>\n",
              "      <td>...</td>\n",
              "      <td>...</td>\n",
              "    </tr>\n",
              "    <tr>\n",
              "      <th>132</th>\n",
              "      <td>0</td>\n",
              "      <td>1</td>\n",
              "    </tr>\n",
              "    <tr>\n",
              "      <th>126</th>\n",
              "      <td>0</td>\n",
              "      <td>1</td>\n",
              "    </tr>\n",
              "    <tr>\n",
              "      <th>92</th>\n",
              "      <td>0</td>\n",
              "      <td>1</td>\n",
              "    </tr>\n",
              "    <tr>\n",
              "      <th>197</th>\n",
              "      <td>0</td>\n",
              "      <td>1</td>\n",
              "    </tr>\n",
              "    <tr>\n",
              "      <th>119</th>\n",
              "      <td>1</td>\n",
              "      <td>0</td>\n",
              "    </tr>\n",
              "  </tbody>\n",
              "</table>\n",
              "<p>211 rows × 2 columns</p>\n",
              "</div>"
            ],
            "text/plain": [
              "     female  male\n",
              "218       0     1\n",
              "194       0     1\n",
              "2         0     1\n",
              "57        1     0\n",
              "212       1     0\n",
              "..      ...   ...\n",
              "132       0     1\n",
              "126       0     1\n",
              "92        0     1\n",
              "197       0     1\n",
              "119       1     0\n",
              "\n",
              "[211 rows x 2 columns]"
            ]
          },
          "metadata": {
            "tags": []
          },
          "execution_count": 29
        }
      ]
    },
    {
      "cell_type": "code",
      "metadata": {
        "id": "LD9kFQ4IvGuS",
        "colab_type": "code",
        "colab": {}
      },
      "source": [
        "def extract_feature(df):\n",
        "  feat = df.copy().dropna()\n",
        "\n",
        "  dummies_df = pd.get_dummies(feat['sex'])\n",
        "  feat = pd.concat([feat,dummies_df],axis=1)\n",
        "  # feat = feat.drop('sex',axis=1)\n",
        "\n",
        "  label = feat['Body weight (kg)']\n",
        "  feat = feat.drop(['Body weight (kg)','sex'], axis=1)\n",
        "  return feat, label"
      ],
      "execution_count": null,
      "outputs": []
    },
    {
      "cell_type": "code",
      "metadata": {
        "id": "b0acWn3DxYQV",
        "colab_type": "code",
        "colab": {}
      },
      "source": [
        "train_feat, train_label = extract_feature(train_df)\n",
        "test_feat, test_label = extract_feature(test_df)"
      ],
      "execution_count": null,
      "outputs": []
    },
    {
      "cell_type": "code",
      "metadata": {
        "id": "wIwBqUcwHlAT",
        "colab_type": "code",
        "colab": {
          "base_uri": "https://localhost:8080/",
          "height": 221
        },
        "outputId": "73e1a8a8-b5bb-4861-fe76-437a07763f43"
      },
      "source": [
        "train_label"
      ],
      "execution_count": null,
      "outputs": [
        {
          "output_type": "execute_result",
          "data": {
            "text/plain": [
              "218    47.0\n",
              "194    70.0\n",
              "2      70.0\n",
              "57     58.0\n",
              "212    60.0\n",
              "       ... \n",
              "132    50.0\n",
              "126    63.0\n",
              "92     61.0\n",
              "197    55.0\n",
              "119    51.0\n",
              "Name: Body weight (kg), Length: 211, dtype: float64"
            ]
          },
          "metadata": {
            "tags": []
          },
          "execution_count": 33
        }
      ]
    },
    {
      "cell_type": "markdown",
      "metadata": {
        "id": "YGqO8l8Y1Sa9",
        "colab_type": "text"
      },
      "source": [
        "# 5. Train Model"
      ]
    },
    {
      "cell_type": "code",
      "metadata": {
        "id": "6qtwc1KH1U6o",
        "colab_type": "code",
        "colab": {}
      },
      "source": [
        "from sklearn.ensemble import RandomForestRegressor, GradientBoostingRegressor\n",
        "from sklearn import tree"
      ],
      "execution_count": null,
      "outputs": []
    },
    {
      "cell_type": "code",
      "metadata": {
        "id": "8pnOPDAA1aJU",
        "colab_type": "code",
        "colab": {}
      },
      "source": [
        "def train_model(feat, label):\n",
        "  # random forrest\n",
        "  # model = RandomForestRegressor(max_depth=1000, random_state=2020)\n",
        "  \n",
        "  # Gradient Boosting\n",
        "  model = GradientBoostingRegressor(random_state=2020)\n",
        "\n",
        "  # Decision Tree\n",
        "  # model = tree.DecisionTreeRegressor(max_depth=1000, random_state=2020)\n",
        "  \n",
        "  model.fit(feat, label)\n",
        "  return model"
      ],
      "execution_count": null,
      "outputs": []
    },
    {
      "cell_type": "code",
      "metadata": {
        "id": "FdJQUo9h1xoa",
        "colab_type": "code",
        "colab": {}
      },
      "source": [
        "model = train_model(train_feat, train_label)"
      ],
      "execution_count": null,
      "outputs": []
    },
    {
      "cell_type": "code",
      "metadata": {
        "id": "PxAuuxUf7awT",
        "colab_type": "code",
        "colab": {
          "base_uri": "https://localhost:8080/",
          "height": 272
        },
        "outputId": "f35a933c-087e-4c69-f951-efa59f71ffb0"
      },
      "source": [
        "for x, y in zip(train_feat.columns.values, model.feature_importances_):\n",
        "  print(x,'\\t', y)"
      ],
      "execution_count": null,
      "outputs": [
        {
          "output_type": "stream",
          "text": [
            "green papaya salad \t 0.12388546730931188\n",
            "Crispy Pork Basil \t 0.06729836852248941\n",
            "Tom Yum Kung \t 0.03494561574100172\n",
            "Chicken rice \t 0.03456160666871446\n",
            "noodle \t 0.029944218865119717\n",
            "Pizza \t 0.043822364115835545\n",
            "Bonchon Chicken \t 0.05338072790934108\n",
            "MK Suki \t 0.06954654436739678\n",
            "Seafood \t 0.054430981566186684\n",
            "salad \t 0.070719381803169\n",
            "Boiled pork blood \t 0.05770072473763693\n",
            "Durian \t 0.04332552164985492\n",
            "age \t 0.18025582450245764\n",
            "female \t 0.08130021225814653\n",
            "male \t 0.05488243998333766\n"
          ],
          "name": "stdout"
        }
      ]
    },
    {
      "cell_type": "code",
      "metadata": {
        "id": "Pw0djQ-ZAgr5",
        "colab_type": "code",
        "colab": {
          "base_uri": "https://localhost:8080/",
          "height": 265
        },
        "outputId": "f5a2bfd8-66c5-4063-d096-25df98e911d8"
      },
      "source": [
        "from matplotlib import pyplot\n",
        "pyplot.bar(range(len(model.feature_importances_)), model.feature_importances_)\n",
        "pyplot.show()"
      ],
      "execution_count": null,
      "outputs": [
        {
          "output_type": "display_data",
          "data": {
            "image/png": "[encoded data removed]",
            "text/plain": [
              "<Figure size 432x288 with 1 Axes>"
            ]
          },
          "metadata": {
            "tags": [],
            "needs_background": "light"
          }
        }
      ]
    },
    {
      "cell_type": "code",
      "metadata": {
        "id": "b2jWNkTJbt0D",
        "colab_type": "code",
        "colab": {
          "base_uri": "https://localhost:8080/",
          "height": 68
        },
        "outputId": "0e562695-3183-4c24-9204-8bb1ce37786f"
      },
      "source": [
        "x = [1,2,3]\n",
        "y = ['a','b','c']\n",
        "for i,j in zip(x,y):\n",
        "  print(i,j)"
      ],
      "execution_count": null,
      "outputs": [
        {
          "output_type": "stream",
          "text": [
            "1 a\n",
            "2 b\n",
            "3 c\n"
          ],
          "name": "stdout"
        }
      ]
    },
    {
      "cell_type": "markdown",
      "metadata": {
        "id": "_8G6mk5a109E",
        "colab_type": "text"
      },
      "source": [
        "# 6. Evaluation\n",
        "\n",
        "การวัดผลในงาน regression แตกต่างกับ classification โดยสิ้นเชิง\n",
        "\n",
        "classification วัดผลด้วย accuracy, precision, recall, f-score\n",
        "\n",
        "regression วัดผลด้วย mse, rmse, r2, mae เป็นต้น"
      ]
    },
    {
      "cell_type": "code",
      "metadata": {
        "id": "ZaxQ5Fmr2EZ-",
        "colab_type": "code",
        "colab": {}
      },
      "source": [
        "predict = model.predict(test_feat)"
      ],
      "execution_count": null,
      "outputs": []
    },
    {
      "cell_type": "code",
      "metadata": {
        "id": "Dyv7UJ-Nqtn5",
        "colab_type": "code",
        "colab": {
          "base_uri": "https://localhost:8080/",
          "height": 170
        },
        "outputId": "7f950049-ec3f-4b89-e61a-24dc40f9a4bf"
      },
      "source": [
        "0 dog, 1 cat, 2 rabbit\n",
        "\n",
        "predict: 1, 1, 2, 0, 2, 0\n",
        "answer:  0, 1, 2, 0, 1, 2\n",
        "\n",
        "0, 1, 1, 1, 0, 0 = 50%\n",
        "\n",
        "19\n",
        "12"
      ],
      "execution_count": null,
      "outputs": [
        {
          "output_type": "execute_result",
          "data": {
            "text/plain": [
              "array([ 60.2   ,  60.365 , 113.319 ,  79.04  ,  57.4745,  66.353 ,\n",
              "        73.855 ,  71.99  ,  80.314 ,  60.4595,  69.325 ,  73.976 ,\n",
              "        63.013 ,  81.899 ,  60.41  ,  64.707 ,  80.3   ,  78.83  ,\n",
              "        79.608 ,  63.8045,  56.53  ,  71.82  ,  80.115 ,  70.3   ,\n",
              "        71.118 ,  53.84  ,  65.495 , 104.84  ,  64.484 ,  59.6   ,\n",
              "        52.019 ,  56.82  ,  95.872 ,  60.2145,  76.77  ,  65.4395,\n",
              "        74.07  ,  61.61  ,  57.8   ,  68.049 ,  80.36  ,  78.57  ,\n",
              "        80.87  ,  61.265 ,  71.878 ,  79.77  ,  63.194 ,  81.34  ,\n",
              "        75.768 ,  82.717 ,  49.996 ,  56.6295,  82.059 ])"
            ]
          },
          "metadata": {
            "tags": []
          },
          "execution_count": 42
        }
      ]
    },
    {
      "cell_type": "code",
      "metadata": {
        "id": "U2Du_ZQx1-Ps",
        "colab_type": "code",
        "colab": {}
      },
      "source": [
        "from sklearn.metrics import mean_squared_error, r2_score\n",
        "import numpy as np\n",
        "\n",
        "def eval_rmse(predict, actual):\n",
        "  return np.sqrt(mean_squared_error(predict, actual))\n",
        "\n",
        "def eval_r2(predict, actual):\n",
        "  return r2_score(predict, actual)"
      ],
      "execution_count": null,
      "outputs": []
    },
    {
      "cell_type": "code",
      "metadata": {
        "id": "fG7emaq4goWO",
        "colab_type": "code",
        "colab": {}
      },
      "source": [
        "def rmse(predict,test_label):\n",
        "  diff = predict - test_label\n",
        "  return np.sqrt(sum(diff**2)/len(diff))"
      ],
      "execution_count": null,
      "outputs": []
    },
    {
      "cell_type": "code",
      "metadata": {
        "id": "xBiNMplh2YXb",
        "colab_type": "code",
        "colab": {
          "base_uri": "https://localhost:8080/",
          "height": 34
        },
        "outputId": "6bfc4a78-ad45-45ef-aa87-44052b4dd00c"
      },
      "source": [
        "eval_rmse(predict, test_label)"
      ],
      "execution_count": null,
      "outputs": [
        {
          "output_type": "execute_result",
          "data": {
            "text/plain": [
              "18.10382148884594"
            ]
          },
          "metadata": {
            "tags": []
          },
          "execution_count": 44
        }
      ]
    },
    {
      "cell_type": "code",
      "metadata": {
        "id": "lC9RBabm5PTY",
        "colab_type": "code",
        "colab": {
          "base_uri": "https://localhost:8080/",
          "height": 34
        },
        "outputId": "407b971f-efba-4a71-9db4-f32474db4203"
      },
      "source": [
        "eval_r2(predict, test_label)"
      ],
      "execution_count": null,
      "outputs": [
        {
          "output_type": "execute_result",
          "data": {
            "text/plain": [
              "-1.1175564989261146"
            ]
          },
          "metadata": {
            "tags": []
          },
          "execution_count": 45
        }
      ]
    },
    {
      "cell_type": "code",
      "metadata": {
        "id": "k56Ga_C3oifS",
        "colab_type": "code",
        "colab": {
          "base_uri": "https://localhost:8080/",
          "height": 281
        },
        "outputId": "896ebce3-eba7-4818-f055-e8ae149c3917"
      },
      "source": [
        "import matplotlib.pyplot as plt\n",
        "\n",
        "r2 = eval_r2(predict, test_label)\n",
        "\n",
        "plt.scatter(test_label, predict)\n",
        "plt.plot(np.arange(8, 100), np.arange(8, 100), label=\"r^2=\" + str(r2), c=\"r\")\n",
        "plt.legend(loc=\"lower right\")\n",
        "plt.title(\"Regression with scikit-learn\")\n",
        "plt.show()"
      ],
      "execution_count": null,
      "outputs": [
        {
          "output_type": "display_data",
          "data": {
            "image/png": "[encoded data removed]",
            "text/plain": [
              "<Figure size 432x288 with 1 Axes>"
            ]
          },
          "metadata": {
            "tags": [],
            "needs_background": "light"
          }
        }
      ]
    },
    {
      "cell_type": "markdown",
      "metadata": {
        "id": "YMk0oPsU1k_4",
        "colab_type": "text"
      },
      "source": [
        "ลองเล่นกับ model ถามเพื่อนข้างๆแล้วมาดูกันว่าแม่นยำแค่ไหน"
      ]
    },
    {
      "cell_type": "code",
      "metadata": {
        "id": "xujTytfXamEj",
        "colab_type": "code",
        "colab": {
          "base_uri": "https://localhost:8080/",
          "height": 85
        },
        "outputId": "3c5a5819-9c5c-4c66-8b72-3e3dab8bb3ec"
      },
      "source": [
        "train_feat.columns.values"
      ],
      "execution_count": null,
      "outputs": [
        {
          "output_type": "execute_result",
          "data": {
            "text/plain": [
              "array(['green papaya salad', 'Crispy Pork Basil', 'Tom Yum Kung',\n",
              "       'Chicken rice', 'noodle', 'Pizza', 'Bonchon Chicken', 'MK Suki',\n",
              "       'Seafood', 'salad', 'Boiled pork blood', 'Durian', 'age', 'female',\n",
              "       'male'], dtype=object)"
            ]
          },
          "metadata": {
            "tags": []
          },
          "execution_count": 46
        }
      ]
    },
    {
      "cell_type": "code",
      "metadata": {
        "id": "zvc4P4RxYORo",
        "colab_type": "code",
        "colab": {
          "base_uri": "https://localhost:8080/",
          "height": 34
        },
        "outputId": "f8daf8f5-724a-4e4e-c76d-99349e68e8ab"
      },
      "source": [
        "model.predict(pd.DataFrame([[3,4,5,2,4,3,3,4,5,2,4,3,45,0,1]]))"
      ],
      "execution_count": null,
      "outputs": [
        {
          "output_type": "execute_result",
          "data": {
            "text/plain": [
              "array([72.92])"
            ]
          },
          "metadata": {
            "tags": []
          },
          "execution_count": 47
        }
      ]
    },
    {
      "cell_type": "code",
      "metadata": {
        "id": "QilVf0jIRsVX",
        "colab_type": "code",
        "colab": {
          "base_uri": "https://localhost:8080/",
          "height": 282
        },
        "outputId": "338f1b70-0c0d-4394-80ec-8d6f29bb4071"
      },
      "source": [
        "from sklearn.decomposition import PCA\n",
        "from matplotlib import pyplot as plt\n",
        "\n",
        "pca=PCA(n_components=1)\n",
        "test_pca=pca.fit_transform(test_feat)\n",
        "\n",
        "plt.scatter(test_pca, test_label)\n",
        "plt.scatter(test_pca, predict)"
      ],
      "execution_count": null,
      "outputs": [
        {
          "output_type": "execute_result",
          "data": {
            "text/plain": [
              "<matplotlib.collections.PathCollection at 0x7f3d8714f3c8>"
            ]
          },
          "metadata": {
            "tags": []
          },
          "execution_count": 48
        },
        {
          "output_type": "display_data",
          "data": {
            "image/png": "[encoded data removed]",
            "text/plain": [
              "<Figure size 432x288 with 1 Axes>"
            ]
          },
          "metadata": {
            "tags": [],
            "needs_background": "light"
          }
        }
      ]
    },
    {
      "cell_type": "code",
      "metadata": {
        "id": "P20erd5WUzd6",
        "colab_type": "code",
        "colab": {
          "base_uri": "https://localhost:8080/",
          "height": 282
        },
        "outputId": "be48130f-5de9-4929-b562-be2dfa7fdb2f"
      },
      "source": [
        "pca=PCA(n_components=1) \n",
        "train_pca=pca.fit_transform(train_feat)\n",
        "\n",
        "plt.scatter(train_pca, train_label)"
      ],
      "execution_count": null,
      "outputs": [
        {
          "output_type": "execute_result",
          "data": {
            "text/plain": [
              "<matplotlib.collections.PathCollection at 0x7f3d87064dd8>"
            ]
          },
          "metadata": {
            "tags": []
          },
          "execution_count": 49
        },
        {
          "output_type": "display_data",
          "data": {
            "image/png": "[encoded data removed]",
            "text/plain": [
              "<Figure size 432x288 with 1 Axes>"
            ]
          },
          "metadata": {
            "tags": [],
            "needs_background": "light"
          }
        }
      ]
    },
    {
      "cell_type": "markdown",
      "metadata": {
        "id": "2tV1ZM2X8w1j",
        "colab_type": "text"
      },
      "source": [
        "# Pipeline\n",
        "ต่อทุกอย่างเข้าด้วยกับ ให้เป็น pipeline"
      ]
    },
    {
      "cell_type": "code",
      "metadata": {
        "id": "keEpR3Az8zVB",
        "colab_type": "code",
        "colab": {}
      },
      "source": [
        "import pandas as pd\n",
        "import gspread\n",
        "from gspread_dataframe import get_as_dataframe, set_with_dataframe\n",
        "from google.colab import auth\n",
        "auth.authenticate_user()  # verify your account to read files which you have access to. Make sure you have permission to read the file!\n",
        "from oauth2client.client import GoogleCredentials\n",
        "\n",
        "def pipeline():\n",
        "  # get data\n",
        "  survey_df = load_data()\n",
        "\n",
        "  # clean data\n",
        "  clean_df = clean_data(survey_df)\n",
        "\n",
        "  # train & test split\n",
        "  train_df, test_df = split_train_test(clean_df)\n",
        "\n",
        "  # extract feature\n",
        "  train_feat, train_label = extract_feature(train_df)\n",
        "  test_feat, test_label = extract_feature(test_df)\n",
        "\n",
        "  train = train_feat.iloc[:len(train_feat)//2,:]\n",
        "  label = train_label.iloc[:len(train_feat)//2]\n",
        "  # Train model\n",
        "  model = train_model(train, label)\n",
        "\n",
        "  # eveluation\n",
        "  predict = model.predict(test_feat)\n",
        "  print(eval_rmse(predict, test_label))"
      ],
      "execution_count": null,
      "outputs": []
    },
    {
      "cell_type": "code",
      "metadata": {
        "id": "A7-s2jdIlc6K",
        "colab_type": "code",
        "colab": {}
      },
      "source": [
        "train = train_feat.iloc[:len(train_feat)//2,:]"
      ],
      "execution_count": null,
      "outputs": []
    },
    {
      "cell_type": "code",
      "metadata": {
        "id": "lW2BNEKA2P6Q",
        "colab_type": "code",
        "colab": {
          "base_uri": "https://localhost:8080/",
          "height": 122
        },
        "outputId": "e6a57678-ecd2-4bac-cde8-740533aa3d1c"
      },
      "source": [
        "pipeline()"
      ],
      "execution_count": null,
      "outputs": [
        {
          "output_type": "stream",
          "text": [
            "24.34697323695167\n"
          ],
          "name": "stdout"
        },
        {
          "output_type": "stream",
          "text": [
            "/usr/local/lib/python3.6/dist-packages/ipykernel_launcher.py:20: SettingWithCopyWarning: \n",
            "A value is trying to be set on a copy of a slice from a DataFrame\n",
            "\n",
            "See the caveats in the documentation: https://pandas.pydata.org/pandas-docs/stable/user_guide/indexing.html#returning-a-view-versus-a-copy\n"
          ],
          "name": "stderr"
        }
      ]
    },
    {
      "cell_type": "code",
      "metadata": {
        "id": "MW4mInekksyv",
        "colab_type": "code",
        "colab": {}
      },
      "source": [
        ""
      ],
      "execution_count": null,
      "outputs": []
    },
    {
      "cell_type": "code",
      "metadata": {
        "id": "yioBlC5eYAWg",
        "colab_type": "code",
        "colab": {
          "base_uri": "https://localhost:8080/",
          "height": 34
        },
        "outputId": "da691160-57bf-4efa-891f-68f0ee9b02ea"
      },
      "source": [
        "from sklearn import preprocessing\n",
        "\n",
        "def norm(df):\n",
        "  norm_df = df.copy()\n",
        "  temp = norm_df[['Body weight (kg)','sex']]\n",
        "  \n",
        "  norm_df = norm_df.drop(['Body weight (kg)','sex'],axis=1)\n",
        "\n",
        "  columns = norm_df.columns.values\n",
        "\n",
        "  x = norm_df.values #returns a numpy array\n",
        "  min_max_scaler = preprocessing.MinMaxScaler()\n",
        "  x_scaled = min_max_scaler.fit_transform(x)\n",
        "  norm_df = pd.DataFrame(x_scaled)\n",
        "\n",
        "  norm_df.columns = columns\n",
        "  print(len(temp))\n",
        "  # norm_df[['Body weight (kg)','sex']] = norm_df\n",
        "  norm_df = pd.concat([norm_df, temp], axis=1)\n",
        "  return norm_df\n",
        "norm_df = norm(clean_df)"
      ],
      "execution_count": null,
      "outputs": [
        {
          "output_type": "stream",
          "text": [
            "232\n"
          ],
          "name": "stdout"
        }
      ]
    },
    {
      "cell_type": "markdown",
      "metadata": {
        "id": "dp6-wvR0aKY-",
        "colab_type": "text"
      },
      "source": [
        "# Addition\n",
        "\n",
        "K-FOLD Cross validation"
      ]
    },
    {
      "cell_type": "code",
      "metadata": {
        "id": "wtwKlT_mqxAm",
        "colab_type": "code",
        "colab": {}
      },
      "source": [
        "from sklearn.model_selection import KFold\n",
        "\n",
        "def pipeline():\n",
        "  # get data\n",
        "  survey_df = load_data()\n",
        "\n",
        "  # clean data\n",
        "  clean_df = clean_data(survey_df)\n",
        "\n",
        "  # train & test split\n",
        "  # train_df, test_df = split_train_test(clean_df)\n",
        "\n",
        "  # define number of folds\n",
        "  kf = KFold(n_splits=5)\n",
        "  kf.get_n_splits(clean_df)\n",
        "\n",
        "  error = []\n",
        "  for train_index, test_index in kf.split(clean_df):\n",
        "\n",
        "    # extract feature\n",
        "    train_df = clean_df.iloc[train_index]\n",
        "    test_df = clean_df.iloc[test_index]\n",
        "\n",
        "    train_feat, train_label = extract_feature(train_df)\n",
        "    test_feat, test_label = extract_feature(test_df)\n",
        "\n",
        "    # Train model\n",
        "    model = train_model(train_feat, train_label)\n",
        "\n",
        "    # eveluation\n",
        "    predict = model.predict(test_feat)\n",
        "    error.append(eval_rmse(predict, test_label))\n",
        "  print('Error: ',sum(error)/len(error))"
      ],
      "execution_count": null,
      "outputs": []
    },
    {
      "cell_type": "code",
      "metadata": {
        "id": "TKKf2TQ6v07f",
        "colab_type": "code",
        "colab": {
          "base_uri": "https://localhost:8080/",
          "height": 122
        },
        "outputId": "fb7a0704-5808-4475-e307-b8304eccec77"
      },
      "source": [
        "pipeline()"
      ],
      "execution_count": null,
      "outputs": [
        {
          "output_type": "stream",
          "text": [
            "Error:  27.54843891225737\n"
          ],
          "name": "stdout"
        },
        {
          "output_type": "stream",
          "text": [
            "/usr/local/lib/python3.6/dist-packages/ipykernel_launcher.py:20: SettingWithCopyWarning: \n",
            "A value is trying to be set on a copy of a slice from a DataFrame\n",
            "\n",
            "See the caveats in the documentation: https://pandas.pydata.org/pandas-docs/stable/user_guide/indexing.html#returning-a-view-versus-a-copy\n"
          ],
          "name": "stderr"
        }
      ]
    },
    {
      "cell_type": "code",
      "metadata": {
        "id": "SBq7fKWhv9EQ",
        "colab_type": "code",
        "colab": {
          "base_uri": "https://localhost:8080/",
          "height": 136
        },
        "outputId": "1ab57ea3-0877-4cda-9699-52af4f6b9265"
      },
      "source": [
        "model"
      ],
      "execution_count": null,
      "outputs": [
        {
          "output_type": "execute_result",
          "data": {
            "text/plain": [
              "RandomForestRegressor(bootstrap=True, ccp_alpha=0.0, criterion='mse',\n",
              "                      max_depth=1000, max_features='auto', max_leaf_nodes=None,\n",
              "                      max_samples=None, min_impurity_decrease=0.0,\n",
              "                      min_impurity_split=None, min_samples_leaf=1,\n",
              "                      min_samples_split=2, min_weight_fraction_leaf=0.0,\n",
              "                      n_estimators=100, n_jobs=None, oob_score=False,\n",
              "                      random_state=2020, verbose=0, warm_start=False)"
            ]
          },
          "metadata": {
            "tags": []
          },
          "execution_count": 72
        }
      ]
    },
    {
      "cell_type": "code",
      "metadata": {
        "id": "lM0VvGoOxHCu",
        "colab_type": "code",
        "colab": {}
      },
      "source": [
        "import pickle\n",
        "filename = 'test.p'\n",
        "pickle.dump(model, open(filename,'wb'))"
      ],
      "execution_count": null,
      "outputs": []
    },
    {
      "cell_type": "code",
      "metadata": {
        "id": "c8FvNtGLxTXi",
        "colab_type": "code",
        "colab": {}
      },
      "source": [
        ""
      ],
      "execution_count": null,
      "outputs": []
    }
  ]
}